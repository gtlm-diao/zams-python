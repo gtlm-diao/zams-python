{
 "cells": [
  {
   "cell_type": "markdown",
   "id": "f06ffd24",
   "metadata": {},
   "source": [
    "# Exercices Module 1"
   ]
  },
  {
   "cell_type": "markdown",
   "id": "409767f2",
   "metadata": {},
   "source": [
    "## 1. **Premier programme & variables**\n",
    "\n",
    "### Exercice 1\n",
    "\n",
    "Afficher le message :\n",
    "\n",
    "```\n",
    "Bienvenue au Burkina Faso !\n",
    "Aujourd'hui, il fait 32°C à Ouagadougou.\n",
    "```\n",
    "\n",
    "Utiliser deux variables (`ville`, `temp`) et la fonction `print()` avec f-strings."
   ]
  },
  {
   "cell_type": "code",
   "execution_count": null,
   "id": "7293b959",
   "metadata": {},
   "outputs": [
    {
     "name": "stdout",
     "output_type": "stream",
     "text": [
      "Bienvenue au Burkina Faso !\n",
      "Aujourd'hui, il fait 32°C à Ouahigouya.\n"
     ]
    }
   ],
   "source": [
    "ville = \"Ouahigouya\"\n",
    "temp = 32\n",
    "print(f\"Bienvenue au Burkina Faso !\\nAujourd'hui, il fait {temp}°C à {ville}.\")"
   ]
  },
  {
   "cell_type": "markdown",
   "id": "887f75d2",
   "metadata": {},
   "source": [
    "### Exercice 2\n",
    "\n",
    "Demande à l’utilisateur son prénom, puis affiche :\n",
    "\n",
    "```\n",
    "Bienvenue au Burkina Faso, {prénom} !\n",
    "```"
   ]
  },
  {
   "cell_type": "code",
   "execution_count": 2,
   "id": "e05f4610",
   "metadata": {},
   "outputs": [
    {
     "name": "stdout",
     "output_type": "stream",
     "text": [
      "Bienvenue au BF, Alban\n"
     ]
    }
   ],
   "source": [
    "prenom = input(\"Entrer votre prénom\")\n",
    "\n",
    "print(f\"Bienvenue au BF, {prenom}\")"
   ]
  },
  {
   "cell_type": "markdown",
   "id": "f9fb1878",
   "metadata": {},
   "source": [
    "## 2. **Arithmétique & types**\n",
    "\n",
    "### Exercice 1\n",
    "\n",
    "Un groupe de 45 élèves doit être réparti en 3 classes égales.\n",
    "\n",
    "* Combien y aura-t-il d’élèves par classe ?\n",
    "* Combien restera-t-il ?\n",
    "  Afficher en f-strings."
   ]
  },
  {
   "cell_type": "code",
   "execution_count": 3,
   "id": "a1652b1b",
   "metadata": {},
   "outputs": [
    {
     "name": "stdout",
     "output_type": "stream",
     "text": [
      "Ily a 15 eleves par classe, il reste 0.\n"
     ]
    }
   ],
   "source": [
    "eleves = 45\n",
    "classes = 3\n",
    "\n",
    "par_classe = eleves // classes\n",
    "reste = eleves % classes\n",
    "\n",
    "print(f\"Ily a {par_classe} eleves par classe, il reste {reste}.\")"
   ]
  },
  {
   "cell_type": "markdown",
   "id": "04c1acf1",
   "metadata": {},
   "source": [
    "### Exercice 2\n",
    "\n",
    "En variables, stocke la **superficie** du Burkina Faso (en km², \\~ 274 200) et la **population** (\\~ 22 millions). Calcule la **densité** (population / superficie) et affiche-la.\n",
    "**Solution :**"
   ]
  },
  {
   "cell_type": "code",
   "execution_count": 11,
   "id": "4348b5dd",
   "metadata": {},
   "outputs": [
    {
     "name": "stdout",
     "output_type": "stream",
     "text": [
      "Densité : 80.2 hab/km²\n"
     ]
    }
   ],
   "source": [
    "superficie = 274200\n",
    "population = 22_000_000\n",
    "densite = population / superficie\n",
    "print(f\"Densité : {densite:.1f} hab/km²\")"
   ]
  },
  {
   "cell_type": "markdown",
   "id": "9165b024",
   "metadata": {},
   "source": [
    "## 3. **Commentaires & structure**\n",
    "\n",
    "### Exercice\n",
    "\n",
    "Écrire un script commenté ligne par ligne qui :\n",
    "\n",
    "1. définit `population = 21_510_181` (population BF estimée),\n",
    "2. augmente cette population de 2 %,\n",
    "3. affiche le nouveau total."
   ]
  },
  {
   "cell_type": "code",
   "execution_count": 12,
   "id": "db61538a",
   "metadata": {},
   "outputs": [
    {
     "name": "stdout",
     "output_type": "stream",
     "text": [
      "Population mise à jour : 21940384\n"
     ]
    }
   ],
   "source": [
    "# Pop. actuelle BF\n",
    "population = 21510181\n",
    "\n",
    "# On augmente de 2%\n",
    "population = int(population * 1.02)\n",
    "\n",
    "print(f\"Population mise à jour : {population}\")"
   ]
  },
  {
   "cell_type": "markdown",
   "id": "150b11cc",
   "metadata": {},
   "source": [
    "## 4. **Booléens & comparaisons**\n",
    "\n",
    "### Exercice\n",
    "\n",
    "Détermine si le pays est densément peuplé :\n",
    "\n",
    "```\n",
    "densité = population / superficie_km2\n",
    "```\n",
    "\n",
    "avec `superficie_km2 = 274200`.\n",
    "Afficher `True` si densité > 100, sinon `False`."
   ]
  },
  {
   "cell_type": "code",
   "execution_count": 7,
   "id": "aaf51837",
   "metadata": {},
   "outputs": [
    {
     "name": "stdout",
     "output_type": "stream",
     "text": [
      "True\n"
     ]
    }
   ],
   "source": [
    "population = 21510181000\n",
    "surface = 274200\n",
    "densite = population / surface\n",
    "\n",
    "print(densite > 100)"
   ]
  },
  {
   "cell_type": "markdown",
   "id": "1ca800e0",
   "metadata": {},
   "source": [
    "## 5. **Opérateurs logiques & conditions**\n",
    "\n",
    "### Exercice\n",
    "\n",
    "Écrire un test qui vérifie si une température est supportable :\n",
    "\n",
    "* supportable si 20 ≤ temp ≤ 35.\n",
    "* sinon, afficher le message d’avertissement."
   ]
  },
  {
   "cell_type": "code",
   "execution_count": 13,
   "id": "8d7e8ca7",
   "metadata": {},
   "outputs": [
    {
     "name": "stdout",
     "output_type": "stream",
     "text": [
      "Trop chaud ou trop froid !\n"
     ]
    }
   ],
   "source": [
    "temp = 40\n",
    "if 20 <= temp <= 35:\n",
    "    print(\"Température supportable\")\n",
    "else:\n",
    "    print(\"Trop chaud ou trop froid !\")"
   ]
  },
  {
   "cell_type": "markdown",
   "id": "106dcb3e",
   "metadata": {},
   "source": [
    "## 6. **If / elif / else – recommandation climat**\n",
    "\n",
    "### Exercice\n",
    "\n",
    "Selon `temp` (°C) :\n",
    "\n",
    "* ≤ 0 : « Froid extrême »\n",
    "* 1–15 : « Frais »\n",
    "* 16–30 : « Chaud »\n",
    "* > 30 : « Très chaud »"
   ]
  },
  {
   "cell_type": "code",
   "execution_count": 8,
   "id": "d62b1fcd",
   "metadata": {},
   "outputs": [
    {
     "name": "stdout",
     "output_type": "stream",
     "text": [
      "Très chaud\n"
     ]
    }
   ],
   "source": [
    "temp = 37\n",
    "if temp <= 0:\n",
    "    msg = \"Froid extrême\"\n",
    "elif temp <= 15:\n",
    "    msg = \"Frais\"\n",
    "elif temp <= 30:\n",
    "    msg = \"Chaud\"\n",
    "else:\n",
    "    msg = \"Très chaud\"\n",
    "print(msg)"
   ]
  },
  {
   "cell_type": "markdown",
   "id": "9d634551",
   "metadata": {},
   "source": [
    "## 7. **Boucle while & break**\n",
    "\n",
    "### Exercice\n",
    "\n",
    "Demander à l’utilisateur d’entrer l’âge d’un baobab (en années). Tant que l’âge < 100, redemander. Quand ≥ 100, afficher « Monument naturel » et arrêter."
   ]
  },
  {
   "cell_type": "code",
   "execution_count": null,
   "id": "aad06f8e",
   "metadata": {},
   "outputs": [
    {
     "name": "stdout",
     "output_type": "stream",
     "text": [
      "Monuument naturel\n"
     ]
    }
   ],
   "source": [
    "while True:\n",
    "    age = int(input(\"Age du baobab?\"))\n",
    "\n",
    "    if age >= 100:\n",
    "        print(\"Monuument naturel\")\n",
    "        break"
   ]
  },
  {
   "cell_type": "markdown",
   "id": "7d0af961",
   "metadata": {},
   "source": [
    "## 8. **Boucle for, range, continue**\n",
    "\n",
    "### Exercice\n",
    "\n",
    "Pour afficher les pays frontaliers du Burkina Faso :\n",
    "\n",
    "```python\n",
    "frontaliers = [\"Mali\", \"Niger\", \"Benin\", \"Togo\", \"Ghana\", \"Côte d’Ivoire\"]\n",
    "```\n",
    "\n",
    "Afficher uniquement ceux dont le nom contient la lettre “o”.\n",
    "Utiliser `continue`.\n"
   ]
  },
  {
   "cell_type": "code",
   "execution_count": null,
   "id": "4e067d6c",
   "metadata": {},
   "outputs": [
    {
     "name": "stdout",
     "output_type": "stream",
     "text": [
      "Togo\n",
      "Côte d’Ivoire\n"
     ]
    }
   ],
   "source": [
    "frontaliers = [\"Mali\", \"Niger\", \"Benin\", \"Togo\", \"Ghana\", \"Côte d’Ivoire\"]\n",
    "\n",
    "for pays in frontaliers:\n",
    "    if \"o\" not in pays.lower():\n",
    "        continue\n",
    "    print(pays)"
   ]
  },
  {
   "cell_type": "markdown",
   "id": "9c5e74cb",
   "metadata": {},
   "source": [
    "## 9. **Boucles imbriquées – carte ascii**\n",
    "\n",
    "### Exercice\n",
    "\n",
    "Afficher un damier 8×8 composé des caractères alternés “■” et “□”, comme un échiquier africain.\n",
    "Avec deux boucles for imbriquées."
   ]
  },
  {
   "cell_type": "code",
   "execution_count": null,
   "id": "0011f8b3",
   "metadata": {},
   "outputs": [],
   "source": []
  },
  {
   "cell_type": "markdown",
   "id": "e74c3659",
   "metadata": {},
   "source": [
    "## 10. **Défi diabolo : quiz pays d’Afrique**\n",
    "\n",
    "Écrire un quiz où l’utilisateur doit deviner tous les pays d’Afrique (54 pays) contenus dans une liste. Inspiré de cet exercice pour **countries of Africa** ([101computing.net][1], [tylervigen.com][2], [webasha.com][3]).\n",
    "\n",
    "* Chaque bonne réponse enlève le pays de la liste.\n",
    "* L’utilisateur a 3 vies : à chaque mauvaise réponse, réduire de 1.\n",
    "* Fin du jeu : trouvez les 54 pays OU vies = 0."
   ]
  },
  {
   "cell_type": "code",
   "execution_count": null,
   "id": "df802776",
   "metadata": {},
   "outputs": [],
   "source": []
  },
  {
   "cell_type": "code",
   "execution_count": null,
   "id": "6564f00d",
   "metadata": {},
   "outputs": [],
   "source": []
  },
  {
   "cell_type": "markdown",
   "id": "902b0753",
   "metadata": {},
   "source": [
    "## Bonus\n",
    "\n",
    "### Exercice 1\n",
    "Un **calendrier traditionnel** burkinabé claque les années bissextiles : divisible par 4 et non par 100, sauf par 400.\n",
    "Demande une année, affiche si c’en est une ou non."
   ]
  },
  {
   "cell_type": "code",
   "execution_count": null,
   "id": "8e7a2201",
   "metadata": {},
   "outputs": [],
   "source": []
  },
  {
   "cell_type": "markdown",
   "id": "9f6349c3",
   "metadata": {},
   "source": [
    "### Exercice 2\n",
    "Affiche les villes suivantes en boucle : Ouaga, Bobo, Koudougou, Ouahigouya."
   ]
  },
  {
   "cell_type": "code",
   "execution_count": null,
   "id": "48372713",
   "metadata": {},
   "outputs": [],
   "source": []
  },
  {
   "cell_type": "markdown",
   "id": "300afd7d",
   "metadata": {},
   "source": [
    "### Exercice 3\n",
    "\n",
    "Demande à l’utilisateur 5 valeurs (kg de mil par semaine). Stocke-les dans une liste, puis calcule et affiche la somme totale de mil."
   ]
  },
  {
   "cell_type": "code",
   "execution_count": null,
   "id": "980ce0bf",
   "metadata": {},
   "outputs": [],
   "source": []
  },
  {
   "cell_type": "markdown",
   "id": "1364b289",
   "metadata": {},
   "source": [
    "### Exercice 4\n",
    "Demande un nombre `n`. Affiche sa table de multiplication jusqu’à 10, façon \"n × i = résultat\"."
   ]
  },
  {
   "cell_type": "code",
   "execution_count": null,
   "id": "f9160cd6",
   "metadata": {},
   "outputs": [],
   "source": []
  },
  {
   "cell_type": "markdown",
   "id": "39b42be4",
   "metadata": {},
   "source": [
    "### Exercice 5\n",
    "Le programme choisit un nombre **aléatoire** entre 1 et 50 (par ex. import random).\n",
    "L’utilisateur a 7 essais pour deviner :\n",
    "\n",
    "* trop petit → indique “Plus grand”,\n",
    "* trop grand → “Plus petit”,\n",
    "* gagné ou épuisement d’essais → arrêt."
   ]
  }
 ],
 "metadata": {
  "kernelspec": {
   "display_name": "base",
   "language": "python",
   "name": "python3"
  },
  "language_info": {
   "codemirror_mode": {
    "name": "ipython",
    "version": 3
   },
   "file_extension": ".py",
   "mimetype": "text/x-python",
   "name": "python",
   "nbconvert_exporter": "python",
   "pygments_lexer": "ipython3",
   "version": "3.12.9"
  }
 },
 "nbformat": 4,
 "nbformat_minor": 5
}
