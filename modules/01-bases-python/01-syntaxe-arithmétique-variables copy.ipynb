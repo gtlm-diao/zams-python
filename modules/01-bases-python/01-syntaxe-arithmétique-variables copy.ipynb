{
 "cells": [
  {
   "cell_type": "markdown",
   "metadata": {},
   "source": [
    "<a id=\"toc\"></a>\n",
    "\n",
    "<div style=\"background-color:rgb(27, 40, 54); padding: 20px; border-radius: 10px; margin-bottom: 30px;\">\n",
    "    <h1 style=\"color: white; font-family: 'Segoe UI', Arial, sans-serif; font-size: 2.8em; text-align: center; margin: 0;\">\n",
    "        Syntaxe de base, Arithmétique et Variables.\n",
    "    </h1>\n",
    "    <p style=\"color:rgb(242, 255, 0); font-family: 'Segoe UI', Arial, sans-serif; font-size: 1.2em; text-align: center; margin-top: 10px; font-style: italic;\">\n",
    "        Syntaxe de base, Arithmétique et Variables.\n",
    "    </p>\n",
    "</div>\n",
    "\n",
    "Nous allons dans cette partie, découvrir la syntaxe de base de Python ainsi que l’arithmétique et les variables. Well, let’s go!!!\n",
    "\n",
    "\n",
    "<div style=\"background-color:rgb(27, 40, 54); padding: 15px; border-radius: 5px; margin-bottom: 30px;\">\n",
    "    <h2 style=\"color:rgb(255, 255, 255); font-family: 'Segoe UI', Arial, sans-serif; font-size: 1.5em; border-bottom: 2px solid #3498DB; padding-bottom: 5px;\">\n",
    "        Table des matières 📑\n",
    "    </h2>\n",
    "    <ul style=\"font-family: 'Segoe UI', Arial, sans-serif; font-size: 1.1em;\">\n",
    "        <li><a href=\"#section1\" style=\"color: #3498DB; text-decoration: none;\">I. Rappel: Premier programme</a></li>\n",
    "        <li><a href=\"#section2\" style=\"color: #3498DB; text-decoration: none;\">II. Notions d’arithmétique</a></li>\n",
    "        <li><a href=\"#section3\" style=\"color: #3498DB; text-decoration: none;\">III. CLes commentaires</a></li>\n",
    "        <li><a href=\"#section4\" style=\"color: #3498DB; text-decoration: none;\">IV. Les variables et leurs types</a></li>\n",
    "    </ul>\n",
    "</div>"
   ]
  },
  {
   "cell_type": "markdown",
   "metadata": {},
   "source": [
    "<div id=\"section1\"></div>\n",
    "<h2 style=\"color: #3498DB; font-family: 'Segoe UI', Arial, sans-serif; font-size: 1.8em; border-bottom: 2px solid #3498DB; padding-bottom: 5px; margin-top: 40px;\">\n",
    "    I. Rappel: Premier programme\n",
    "</h2>\n",
    "\n",
    "La tâche de base que vous pouvez demander à un programme de faire est d’afficher un message ou du texte à l’écran. On utilise pour cela la fonction print(“Votre message”) en python en mettant le message dans les parenthèses entre guillemets. \n",
    "\n",
    "\n",
    "Note: Pas de panique si vous ne savez pas ce que c’est qu’une fonction, nous découvriront plutard, dans les moindres détails, les fonctions.\n",
    "\n",
    "<figure style=\"padding: 1em; text-align: center;\">\n",
    "    <img src=\"https://i.ytimg.com/vi/NYeNkgLFxOk/maxresdefault.jpg\" width=\"400\" height=\"200\" alt=\"Logo Python\">\n",
    "    <figcaption style=\"font-size: 0.9em; color: #3498db; margin-top: 0.5em;\">\n",
    "        <i>Lao Tseu - <a href=\"https://c4infinity.wordpress.com/2020/07/20/lao-tseu-un-voyage-de-mille-lieues-commence-toujours-par-un-premier-pas/\" target=\"_blank\">Source: c4infinity</a></i>\n",
    "    </figcaption>\n",
    "</figure>"
   ]
  },
  {
   "cell_type": "code",
   "execution_count": 1,
   "metadata": {},
   "outputs": [
    {
     "name": "stdout",
     "output_type": "stream",
     "text": [
      "Hello world!\n"
     ]
    }
   ],
   "source": [
    "print(\"Hello world!\")"
   ]
  },
  {
   "cell_type": "markdown",
   "metadata": {},
   "source": [
    "Félicitations nous venons d’écrire notre premier programme en python : toute chose commence par un premier pas 😊. Penchons nous à présent sur quelques opérateurs d’arithmétique."
   ]
  },
  {
   "cell_type": "markdown",
   "metadata": {},
   "source": [
    "<div id=\"section2\"></div>\n",
    "\n",
    "<a href=\"#toc\" style=\"background-color: #E1B12D; color: #ffffff; padding: 7px 15px; text-decoration: none; border-radius: 50px;\">Retour en haut</a><a id=\"toc\"></a>\n",
    "\n",
    "<h2 style=\"color: #3498DB; font-family: 'Segoe UI', Arial, sans-serif; font-size: 1.8em; border-bottom: 2px solid #3498DB; padding-bottom: 5px; margin-top: 40px;\">\n",
    "    II. Notions d’arithmétique\n",
    "</h2>\n",
    "\n",
    "Nous pouvons évidemment effectuer de simples opérations arithmétiques avec python et afficher le résultat en sortie. Les principales opérations de base sont : l’addition (+), la soustraction (-), la multiplication (*) et la division (/).\n",
    "\n"
   ]
  },
  {
   "cell_type": "code",
   "execution_count": 2,
   "metadata": {},
   "outputs": [
    {
     "data": {
      "text/plain": [
       "8"
      ]
     },
     "execution_count": 2,
     "metadata": {},
     "output_type": "execute_result"
    }
   ],
   "source": [
    "10+5 # sera executé mais pas affiché\n",
    "5+3 # affichhe la sortie da la derniere ligne de cette cellule"
   ]
  },
  {
   "cell_type": "code",
   "execution_count": 3,
   "metadata": {},
   "outputs": [
    {
     "name": "stdout",
     "output_type": "stream",
     "text": [
      "8\n"
     ]
    }
   ],
   "source": [
    "print(5+3)"
   ]
  },
  {
   "cell_type": "code",
   "execution_count": 4,
   "metadata": {},
   "outputs": [
    {
     "name": "stdout",
     "output_type": "stream",
     "text": [
      "37\n"
     ]
    }
   ],
   "source": [
    "print(56-19)"
   ]
  },
  {
   "cell_type": "code",
   "execution_count": 5,
   "metadata": {},
   "outputs": [],
   "source": [
    "# x n'est pas le symbole de multiplication\n",
    "# 9 x 7"
   ]
  },
  {
   "cell_type": "code",
   "execution_count": 6,
   "metadata": {},
   "outputs": [
    {
     "name": "stdout",
     "output_type": "stream",
     "text": [
      "72\n"
     ]
    }
   ],
   "source": [
    "print(9*8) "
   ]
  },
  {
   "cell_type": "code",
   "execution_count": 7,
   "metadata": {},
   "outputs": [],
   "source": [
    "# ÷ n'est pas le symbole de division\n",
    "# 10 ÷ 2"
   ]
  },
  {
   "cell_type": "code",
   "execution_count": 8,
   "metadata": {},
   "outputs": [
    {
     "name": "stdout",
     "output_type": "stream",
     "text": [
      "3.5714285714285716\n"
     ]
    }
   ],
   "source": [
    "print(25/7)"
   ]
  },
  {
   "cell_type": "markdown",
   "metadata": {},
   "source": [
    "D’autres opérateurs à connaitre également sont entre autres:"
   ]
  },
  {
   "cell_type": "markdown",
   "metadata": {},
   "source": [
    "- L’opérateur puissance \\(**):"
   ]
  },
  {
   "cell_type": "code",
   "execution_count": 9,
   "metadata": {},
   "outputs": [
    {
     "name": "stdout",
     "output_type": "stream",
     "text": [
      "49\n"
     ]
    }
   ],
   "source": [
    "print(7**2)"
   ]
  },
  {
   "cell_type": "markdown",
   "metadata": {},
   "source": [
    "- Le quotient d’une division entière (//) :"
   ]
  },
  {
   "cell_type": "code",
   "execution_count": 10,
   "metadata": {},
   "outputs": [
    {
     "name": "stdout",
     "output_type": "stream",
     "text": [
      "3\n"
     ]
    }
   ],
   "source": [
    "print(25//7)"
   ]
  },
  {
   "cell_type": "markdown",
   "metadata": {},
   "source": [
    "- Le modulo (%) pour obtenir le reste d’une division entière :"
   ]
  },
  {
   "cell_type": "code",
   "execution_count": 11,
   "metadata": {},
   "outputs": [
    {
     "name": "stdout",
     "output_type": "stream",
     "text": [
      "1\n"
     ]
    }
   ],
   "source": [
    "print(13%2)"
   ]
  },
  {
   "cell_type": "markdown",
   "metadata": {},
   "source": [
    "- L’opérateur d’incrémentation (+=): qui effectue une addition puis affecte le résultat à une même variable (nous verrons un peu plus loin la notion de variables) ;"
   ]
  },
  {
   "cell_type": "code",
   "execution_count": 12,
   "metadata": {},
   "outputs": [
    {
     "name": "stdout",
     "output_type": "stream",
     "text": [
      "9\n"
     ]
    }
   ],
   "source": [
    "ma_variable = 8\n",
    "ma_variable += 1\n",
    "print(ma_variable)"
   ]
  },
  {
   "cell_type": "code",
   "execution_count": 13,
   "metadata": {},
   "outputs": [],
   "source": [
    "ma_variable = ma_variable + 1"
   ]
  },
  {
   "cell_type": "markdown",
   "metadata": {},
   "source": [
    "Cette opération équivaut à: **ma_variable = ma_variable + 1** .\n",
    "\n",
    "<div style=\"display: flex; justify-content: center; gap: 2em;\">\n",
    "    <figure style=\"padding: 1em; text-align: center;\">\n",
    "        <img src=\"https://i.redd.it/ok0fwc782l4b1.png\" width=\"400\" height=\"300\" alt=\"Logo Python\">\n",
    "        <figcaption style=\"font-size: 0.9em; color: #3498db; margin-top: 0.5em;\">\n",
    "            <i>Meme: x = x + 1 - <a href=\"https://www.reddit.com/r/sciencememes/comments/143avwb/xx1/\" target=\"_blank\">Source: Reddit</a></i>\n",
    "        </figcaption>\n",
    "    </figure>\n",
    "    <figure style=\"padding: 1em; text-align: center;\">\n",
    "        <img src=\"https://preview.redd.it/b8kyphs4ygk51.jpg?width=1080&crop=smart&auto=webp&s=4a8c643b7d7aee7ec9c8b6fdc90248af6b5ad37c\" width=\"400\" height=\"300\" alt=\"Logo Python\">\n",
    "        <figcaption style=\"font-size: 0.9em; color: #3498db; margin-top: 0.5em;\">\n",
    "            <i>Meme: x = x + 1 - <a href=\"https://www.reddit.com/r/memes/comments/ike8ko/i_will_do_it/\" target=\"_blank\">Source: Reddit</a></i>\n",
    "        </figcaption>\n",
    "    </figure>\n",
    "</div>\n",
    "\n",
    "\n",
    "\n",
    "\n",
    "\n",
    "**Remarque:** Les opérateurs **-=**, ***=** et **/=**  fonctionnent semblablement à l’opérateur d’incrémentation.\n",
    "\n",
    "Nous pouvons effectuer plusieurs opérations simultanément avec python mais en faisant attention à la priorité des opérateurs. Eh oui, tout comme en maths, il y a des priorités entre les opérations et les règles de priorités sont assez similaires. En général, python suit la règle [PEMDAS](https://ecampusontario.pressbooks.pub/mathpourlesmetiersvolume2/chapter/ordre-des-operations/#:~:text=PEMDAS%20est%20un%20acronyme%20utilis%C3%A9,la%20multiplication%20et%20la%20division.), pour décider de l’ordre des opérateurs."
   ]
  },
  {
   "cell_type": "code",
   "execution_count": 14,
   "metadata": {},
   "outputs": [
    {
     "name": "stdout",
     "output_type": "stream",
     "text": [
      "2.0\n"
     ]
    }
   ],
   "source": [
    "print(6-4*2+8/2)"
   ]
  },
  {
   "cell_type": "markdown",
   "metadata": {},
   "source": [
    "Cependant nous pouvons toujours contrôler l’ordre des opérations dans nos calculs en utilisant les parenthèses ()."
   ]
  },
  {
   "cell_type": "code",
   "execution_count": 15,
   "metadata": {},
   "outputs": [
    {
     "name": "stdout",
     "output_type": "stream",
     "text": [
      "10.0\n"
     ]
    }
   ],
   "source": [
    "print((6-4)*(2+8)/2)"
   ]
  },
  {
   "cell_type": "markdown",
   "metadata": {},
   "source": [
    "<div id=\"section3\"></div>\n",
    "\n",
    "<a href=\"#toc\" style=\"background-color: #E1B12D; color: #ffffff; padding: 7px 15px; text-decoration: none; border-radius: 50px;\">Retour en haut</a><a id=\"toc\"></a>\n",
    "\n",
    "<h2 style=\"color: #3498DB; font-family: 'Segoe UI', Arial, sans-serif; font-size: 1.8em; border-bottom: 2px solid #3498DB; padding-bottom: 5px; margin-top: 40px;\">\n",
    "    III. Les commentaires\n",
    "</h2>\n",
    "\n",
    "<figure style=\"padding: 1em; text-align: center;\">\n",
    "    <img src=\"https://miro.medium.com/v2/resize:fit:1100/format:webp/0*shHb-5aV56EZCDnl\" width=\"400\" height=\"200\" alt=\"Logo Python\">\n",
    "    <figcaption style=\"font-size: 0.9em; color: #3498db; margin-top: 0.5em;\">\n",
    "        <i>Commentaires</i>\n",
    "    </figcaption>\n",
    "</figure>\n",
    "\n",
    "Les commentaires sont utilisés pour annoter le code, nous aider et aider les autres à mieux le comprendre, surtout pour les longs codes. En python on distingue les commentaires sur une ligne( en utilisant # en début de ligne) et ceux sur plusieurs lignes ( en entourant les commentaires par “”” … “””)\n"
   ]
  },
  {
   "cell_type": "code",
   "execution_count": 16,
   "metadata": {},
   "outputs": [
    {
     "name": "stdout",
     "output_type": "stream",
     "text": [
      "Bonjour tout le monde !\n"
     ]
    }
   ],
   "source": [
    "# Mon commentaire sur une seule ligne\n",
    "\n",
    "print(\"Bonjour tout le monde !\") # Mon commentaire sur une seule ligne"
   ]
  },
  {
   "cell_type": "code",
   "execution_count": 17,
   "metadata": {},
   "outputs": [
    {
     "data": {
      "text/plain": [
       "' Mon\\n          commentaire sur\\n                            plusieurs lignes '"
      ]
     },
     "execution_count": 17,
     "metadata": {},
     "output_type": "execute_result"
    }
   ],
   "source": [
    "\"\"\" Mon\n",
    "          commentaire sur\n",
    "                            plusieurs lignes \"\"\""
   ]
  },
  {
   "cell_type": "markdown",
   "metadata": {},
   "source": [
    "Exemple: En exécutant ce code vous remarquerez que les deux premières lignes mises en commentaire(couleur verte) seront ignorées par Python:"
   ]
  },
  {
   "cell_type": "code",
   "execution_count": 18,
   "metadata": {},
   "outputs": [
    {
     "name": "stdout",
     "output_type": "stream",
     "text": [
      "202.4\n"
     ]
    }
   ],
   "source": [
    "# print(2024/12)\n",
    "\"\"\" La ligne suivante affiche le résultat de la division euclidienne \n",
    "de 2024 par 10 \"\"\"\n",
    "print(2024/10)"
   ]
  },
  {
   "cell_type": "markdown",
   "metadata": {},
   "source": [
    "<div id=\"section4\"></div>\n",
    "\n",
    "<a href=\"#toc\" style=\"background-color: #E1B12D; color: #ffffff; padding: 7px 15px; text-decoration: none; border-radius: 50px;\">Retour en haut</a><a id=\"toc\"></a>\n",
    "\n",
    "<h2 style=\"color: #3498DB; font-family: 'Segoe UI', Arial, sans-serif; font-size: 1.8em; border-bottom: 2px solid #3498DB; padding-bottom: 5px; margin-top: 40px;\">\n",
    "    IV. Les Variables\n",
    "</h2>\n",
    "\n",
    "Une variable n’est rien d’autre qu’une zone mémoire de l’ordinateur ou une valeur est stockée. Les variables sont utilisées pour enregistrer des résultats que l’on souhaite réutiliser plutard. Vous pouvez voir une variable comme un “sac” dans lequel on place des objets temporairement.\n",
    "\n",
    "\n",
    "<figure style=\"padding: 1em; text-align: center;\">\n",
    "    <img src=\"https://miro.medium.com/v2/resize:fit:1100/format:webp/0*xaXZdkHk7t7EY503.png\" width=\"600\" height=\"400\" alt=\"Classement des langages de programmation\">\n",
    "    <figcaption style=\"font-size: 0.9em; color:rgb(71, 129, 255); margin-top: 0.5em;\">\n",
    "        <i>Types de variables en Python. <a href=\"https://anyantudre.medium.com/introduction-%C3%A0-la-programmation-en-python-arithm%C3%A9tique-et-variables-en-python-505d6e4a2fce\" target=\"_blank\">Medium</a></i>\n",
    "    </figcaption>\n",
    "</figure>\n",
    "\n",
    "\n",
    "<h3 style=\"color:rgb(242, 255, 0); font-family: 'Segoe UI', Arial, sans-serif; font-size: 1.6em; padding-bottom: 5px; margin-top: 40px;\">\n",
    "    1. Création de variables\n",
    "</h3>\n",
    "\n",
    "En python, on déclare et on initialise les variables en même temps. Pour créer une variable, il faut d’abord choisir un nom de variable et ensuite attribuer une valeur à cette variable en utilisant l’opérateur d’affectation « = »."
   ]
  },
  {
   "cell_type": "code",
   "execution_count": 19,
   "metadata": {},
   "outputs": [
    {
     "name": "stdout",
     "output_type": "stream",
     "text": [
      "75\n"
     ]
    }
   ],
   "source": [
    "ta_variable = 75\n",
    "print(ta_variable)"
   ]
  },
  {
   "cell_type": "code",
   "execution_count": 20,
   "metadata": {},
   "outputs": [],
   "source": [
    "# à éviter \n",
    "#ma variable = 8"
   ]
  },
  {
   "cell_type": "code",
   "execution_count": 21,
   "metadata": {},
   "outputs": [],
   "source": [
    "# à éviter \n",
    "#ma-variable = 8"
   ]
  },
  {
   "cell_type": "code",
   "execution_count": 22,
   "metadata": {},
   "outputs": [],
   "source": [
    "# à éviter \n",
    "#10variable = 8"
   ]
  },
  {
   "cell_type": "code",
   "execution_count": 23,
   "metadata": {},
   "outputs": [],
   "source": [
    "# à éviter \n",
    "#else = 8"
   ]
  },
  {
   "cell_type": "code",
   "execution_count": 24,
   "metadata": {},
   "outputs": [],
   "source": [
    "# bien\n",
    "ma_variable_preferee = 8"
   ]
  },
  {
   "cell_type": "markdown",
   "metadata": {},
   "source": [
    "Notons que dans cet exemple, nous avons déclaré, puis initialisé la variable ma_variable avec la valeur 75.\n",
    "\n",
    "L’attribution d’un nom de variable suit certaines règles :\n",
    "\n",
    "- Pas d’espaces entre entre les caractères.\n",
    "- Utiliser uniquement des lettres (majuscules ou minuscules, des chiffres et des tirets de 8.)\n",
    "- Doit obligatoirement commencer par une lettre ou un tiret de 8.\n",
    "- Eviter à tout prix d’utiliser un mot « réservé » par Python comme nom de variable, pour éviter la confusion (print, else, range, for…).\n",
    "\n",
    "\n",
    "<h3 style=\"color:rgb(242, 255, 0); font-family: 'Segoe UI', Arial, sans-serif; font-size: 1.6em; padding-bottom: 5px; margin-top: 40px;\">\n",
    "    2. Les types de variables (ou données):\n",
    "</h3>\n",
    "\n",
    "Le type d’une variable est sa nature. Il en existe plusieurs mais on en distingue trois principaux que sont \n",
    "- les entiers (Integer ou int), \n",
    "- les nombres décimaux (float) et \n",
    "- les chaînes de caractères (string ou str).\n",
    "\n",
    "\n",
    "<figure style=\"padding: 1em; text-align: center;\">\n",
    "    <img src=\"https://miro.medium.com/v2/resize:fit:640/format:webp/0*2Faa_m7rK_ZQkUp9.png\" width=\"600\" height=\"400\" alt=\"Classement des langages de programmation\">\n",
    "    <figcaption style=\"font-size: 0.9em; color:rgb(71, 129, 255); margin-top: 0.5em;\">\n",
    "        <i>Les entiers, flottants et chaines de charactères en Python <a href=\"https://anyantudre.medium.com/introduction-%C3%A0-la-programmation-en-python-arithm%C3%A9tique-et-variables-en-python-505d6e4a2fce\" target=\"_blank\">Medium</a></i>\n",
    "    </figcaption>\n",
    "</figure>\n",
    "\n",
    "Nous reviendrons plus en profondeur sur les autres types de données dans les prochains articles.\n",
    "\n",
    "Python est capable de reconnaitre automatiquement certains types (entiers et float) contrairement à d’autres langages. Pour les chaînes de caractères(str) par exemple, il faut indiquer explicitement le type en entourant le texte de guillemets (doubles ou simples).\n"
   ]
  },
  {
   "cell_type": "code",
   "execution_count": 25,
   "metadata": {},
   "outputs": [
    {
     "data": {
      "text/plain": [
       "int"
      ]
     },
     "execution_count": 25,
     "metadata": {},
     "output_type": "execute_result"
    }
   ],
   "source": [
    "ma_variable_preferee = 8\n",
    "type(ma_variable_preferee)"
   ]
  },
  {
   "cell_type": "code",
   "execution_count": 26,
   "metadata": {},
   "outputs": [
    {
     "data": {
      "text/plain": [
       "str"
      ]
     },
     "execution_count": 26,
     "metadata": {},
     "output_type": "execute_result"
    }
   ],
   "source": [
    "ma_variable_preferee = \"82000\"\n",
    "type(ma_variable_preferee)"
   ]
  },
  {
   "cell_type": "markdown",
   "metadata": {},
   "source": [
    "<h3 style=\"color:rgb(242, 255, 0); font-family: 'Segoe UI', Arial, sans-serif; font-size: 1.6em; padding-bottom: 5px; margin-top: 40px;\">\n",
    "    3. Manipulation des variables:\n",
    "</h3>\n",
    "\n",
    "Nous pouvons changer la valeur d’une variable en écrasant l’ancienne valeur de la variable."
   ]
  },
  {
   "cell_type": "code",
   "execution_count": 29,
   "metadata": {},
   "outputs": [
    {
     "name": "stdout",
     "output_type": "stream",
     "text": [
      "92\n"
     ]
    }
   ],
   "source": [
    "ma_variable1 = 17\n",
    "ma_variable1 = 92\n",
    "\n",
    "print(ma_variable1)"
   ]
  },
  {
   "cell_type": "markdown",
   "metadata": {},
   "source": [
    "On peut définir plusieurs variables simultanément et effectuer les opérations arithmétiques déjà vues pour faire des calculs."
   ]
  },
  {
   "cell_type": "code",
   "execution_count": 28,
   "metadata": {},
   "outputs": [
    {
     "name": "stdout",
     "output_type": "stream",
     "text": [
      "33.0\n"
     ]
    }
   ],
   "source": [
    "# création de variables\n",
    "x = 55\n",
    "y = 34\n",
    "z = 10\n",
    "\n",
    "# calcul de la moyenne des trois variables x, y et z\n",
    "moyenne = (x+y+z)/3\n",
    "print(moyenne)"
   ]
  },
  {
   "cell_type": "markdown",
   "metadata": {},
   "source": [
    "Remarques:\n",
    "- Au cas où nous oublierons le type d’une variable, la fonction prédéfinie type() nous aidera à retrouver son type.\n",
    "- L’utilisation des variables en Python est très importante quand les valeurs des entrées changent régulièrement. Dans des codes plus complexes, leur utilisation nous facilite aussi énormément la tache quand on veut chercher les erreurs dans le code.\n",
    "\n",
    "\n",
    "Cette remarque marque la fin de ce chapitre. Jusque là nous avons écrit notre premier programme en Python, appris les notions de bases de l’arithmétique, les commentaires et les variables."
   ]
  },
  {
   "cell_type": "markdown",
   "metadata": {},
   "source": [
    "<div id=\"section6\"></div>\n",
    "\n",
    "<a href=\"#toc\" style=\"background-color: #E1B12D; color: #ffffff; padding: 7px 15px; text-decoration: none; border-radius: 50px;\">Retour en haut</a><a id=\"toc\"></a>\n",
    "\n",
    "<h2 style=\"color: #3498DB; font-family: 'Segoe UI', Arial, sans-serif; font-size: 1.8em; border-bottom: 2px solid #3498DB; padding-bottom: 5px; margin-top: 40px;\">\n",
    "    VI. 📚 Ressources complémentaires\n",
    "</h2>\n"
   ]
  }
 ],
 "metadata": {
  "kernelspec": {
   "display_name": "base",
   "language": "python",
   "name": "python3"
  },
  "language_info": {
   "codemirror_mode": {
    "name": "ipython",
    "version": 3
   },
   "file_extension": ".py",
   "mimetype": "text/x-python",
   "name": "python",
   "nbconvert_exporter": "python",
   "pygments_lexer": "ipython3",
   "version": "3.12.9"
  }
 },
 "nbformat": 4,
 "nbformat_minor": 2
}
