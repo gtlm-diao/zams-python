{
 "cells": [
  {
   "cell_type": "markdown",
   "metadata": {},
   "source": [
    "<a id=\"toc\"></a>\n",
    "<div style=\"background-color:rgb(27, 40, 54); padding: 20px; border-radius: 10px; margin-bottom: 30px;\">\n",
    "    <h1 style=\"color: white; font-family: 'Segoe UI', Arial, sans-serif; font-size: 2.8em; text-align: center; margin: 0;\">\n",
    "        Les Fonctions en Python\n",
    "    </h1>\n",
    "    <p style=\"color:rgb(242, 255, 0); font-family: 'Segoe UI', Arial, sans-serif; font-size: 1.2em; text-align: center; margin-top: 10px; font-style: italic;\">\n",
    "        Création, appel et utilisation des fonctions pour un code modulaire et réutilisable.\n",
    "    </p>\n",
    "</div>\n",
    "\n",
    "<figure style=\"padding: 1em; text-align: center;\">\n",
    "    <img src=\"https://realpython.com/cdn-cgi/image/width=1920,format=auto/https://files.realpython.com/media/UPDATE-Defining-Your-Own-Python-Function_Watermarked.54412dcabb8d.jpg\" width=\"700\" height=\"400\" alt=\"Fonctions Python\">\n",
    "    <figcaption style=\"font-size: 0.9em; color: #3498db; margin-top: 0.5em;\">\n",
    "        <i>Crédit image - Real Python</i>\n",
    "    </figcaption>\n",
    "</figure>\n",
    "\n",
    "Une fonction Python est un bloc de code nommé qui effectue des tâches spécifiques et peut être réutilisé dans d'autres parties de votre code. Python dispose de plusieurs fonctions intégrées qui sont toujours disponibles, et vous pouvez également créer les vôtres. Ces dernières sont appelées fonctions définies par l'utilisateur.\n",
    "\n",
    "Pour définir une fonction en Python, vous utilisez le mot-clé `def`, suivi du nom de la fonction et d'une liste optionnelle de paramètres entre parenthèses obligatoires. Vous pouvez appeler et réutiliser une fonction en utilisant son nom, une paire de parenthèses et les arguments nécessaires.\n",
    "\n",
    "<div style=\"background-color:rgb(27, 40, 54); padding: 15px; border-radius: 5px; margin-bottom: 30px;\">\n",
    "    <h2 style=\"color:rgb(255, 255, 255); font-family: 'Segoe UI', Arial, sans-serif; font-size: 1.5em; border-bottom: 2px solid #3498DB; padding-bottom: 5px;\">\n",
    "        Table des matières 📑\n",
    "    </h2>\n",
    "    <ul style=\"font-family: 'Segoe UI', Arial, sans-serif; font-size: 1.1em;\">\n",
    "        <li><a href=\"#section1\" style=\"color: #3498DB; text-decoration: none;\">I. Intro aux fonctions</a></li>\n",
    "        <li><a href=\"#section2\" style=\"color: #3498DB; text-decoration: none;\">II. Avantages des fonctions</a></li>\n",
    "        <li><a href=\"#section3\" style=\"color: #3498DB; text-decoration: none;\">III. Définir des fonctions en Python</a></li>\n",
    "        <li><a href=\"#section4\" style=\"color: #3498DB; text-decoration: none;\">IV. Appel de fonctions en Python</a>\n",
    "            <ul style=\"margin-left: 20px; font-size: 0.95em;\">\n",
    "                <li><a href=\"#section4a\" style=\"color: #3498DB; text-decoration: none;\">Arguments positionnels</a></li>\n",
    "                <li><a href=\"#section4b\" style=\"color: #3498DB; text-decoration: none;\">Arguments par mots-clés</a></li>\n",
    "            </ul>\n",
    "        </li>\n",
    "        <li><a href=\"#section5\" style=\"color: #3498DB; text-decoration: none;\">V. Retourner des valeurs depuis les fonctions</a></li>\n",
    "        <li><a href=\"#section6\" style=\"color: #3498DB; text-decoration: none;\">VI. Fonctionnalités avancées des fonctions</a></li>\n",
    "        <li><a href=\"#section7\" style=\"color: #3498DB; text-decoration: none;\">VII. Exercices pratiques et défis</a></li>\n",
    "    </ul>\n",
    "</div>\n",
    "\n",
    "Apprendre à définir et appeler des fonctions est une compétence fondamentale pour tout développeur Python. Les fonctions aident à organiser votre code et le rendent plus modulaire, réutilisable et plus facile à maintenir."
   ]
  },
  {
   "cell_type": "markdown",
   "metadata": {},
   "source": [
    "<li><a href=\"#section1\" style=\"color: #3498DB; text-decoration: none;\">I. Arguments par mot-clé (Keyword Arguments)</a></li>\n",
    "<li><a href=\"#section2\" style=\"color: #3498DB; text-decoration: none;\">II. Retour depuis les fonctions</a></li>\n",
    "<li><a href=\"#section3\" style=\"color: #3498DB; text-decoration: none;\">III. Valeurs d'arguments par défaut</a></li>\n",
    "<li><a href=\"#section4\" style=\"color: #3498DB; text-decoration: none;\">IV. Nombre variable d'arguments positionnels : *args</a></li>\n",
    "<li><a href=\"#section5\" style=\"color: #3498DB; text-decoration: none;\">V. Nombre variable d'arguments par mot-clé : **kwargs</a></li>\n",
    "<li><a href=\"#section6\" style=\"color: #3498DB; text-decoration: none;\">VI. Arguments positionnels uniquement et par mot-clé uniquement</a></li>"
   ]
  },
  {
   "cell_type": "markdown",
   "metadata": {},
   "source": [
    "<div id=\"section1\"></div>\n",
    "<h2 style=\"color: #3498DB; font-family: 'Segoe UI', Arial, sans-serif; font-size: 1.8em; border-bottom: 2px solid #3498DB; padding-bottom: 5px; margin-top: 40px;\">\n",
    "    I. Intro aux fonctions\n",
    "</h2>\n",
    "\n",
    "\n",
    "\n",
    "En maths, une fonction est une relation ou un mappage entre une ou plusieurs entrées et un ensemble de sorties. Ce concept est généralement représenté par l'équation suivante: **z = f(x, y)**\n",
    "\n",
    "<figure style=\"padding: 1em; text-align: center;\">\n",
    "    <img src=\"https://realpython.com/cdn-cgi/image/width=384,format=auto/https://files.realpython.com/media/math-function.8bb35bb0fd7e.png\" width=\"400\" height=\"100\" alt=\"Fonction mathématique\">\n",
    "    <figcaption style=\"font-size: 0.9em; color: #3498db; margin-top: 0.5em;\">\n",
    "        <i>Représentation mathématique d'une fonction</i>\n",
    "    </figcaption>\n",
    "</figure>\n",
    "\n",
    "Ici, `f()` est une fonction qui opère sur les variables `x` et `y`, et elle génère un résultat qui est assigné à `z`. Vous pouvez lire cette formule comme \"z est une fonction de x et y\".\n",
    "\n",
    "Les fonctions sont également utilisées en programmation. En fait, les fonctions sont si fondamentales au développement logiciel que pratiquement tous les langages de programmation modernes les supportent. En programmation, une fonction est un bloc de code autonome qui encapsule une tâche spécifique sous un nom descriptif que vous pouvez réutiliser dans différentes parties de votre code.\n",
    "\n",
    "Python dispose de nombreuses fonctions intégrées. Par exemple, la fonction intégrée `print()` que vous connaissez maintenant très bien:\n"
   ]
  },
  {
   "cell_type": "code",
   "execution_count": 86,
   "metadata": {},
   "outputs": [
    {
     "name": "stdout",
     "output_type": "stream",
     "text": [
      "Python\n"
     ]
    }
   ],
   "source": [
    "language = \"Python\"\n",
    "print(language)"
   ]
  },
  {
   "cell_type": "markdown",
   "metadata": {},
   "source": [
    "De même, la fonction intégrée `len()` prend une collection de données comme argument et retourne sa longueur :"
   ]
  },
  {
   "cell_type": "code",
   "execution_count": 36,
   "metadata": {},
   "outputs": [
    {
     "data": {
      "text/plain": [
       "10"
      ]
     },
     "execution_count": 36,
     "metadata": {},
     "output_type": "execute_result"
    }
   ],
   "source": [
    "numbers = [1, 2, 3, 4, 5, 6, 7, 8, 9, 10]\n",
    "items = len(numbers)\n",
    "items"
   ]
  },
  {
   "cell_type": "markdown",
   "metadata": {},
   "source": [
    "Dans cet exemple, la liste de nombres contient dix valeurs, donc `len()` renvoie 10. Vous assignez cette valeur à la variable `items`, ce qui équivaut à *z* dans l'équation mathématique que vous avez vue précédemment.\n",
    "\n",
    "La plupart des langages de programmation, y compris Python, permettent de définir vos propres fonctions. Lorsque vous définissez une fonction en Python, vous décidez si elle prend des arguments. Vous êtes également responsable de la manière dont la fonction calcule son résultat en interne.\n",
    "\n",
    "Une fois que vous avez défini une fonction, vous pouvez l’appeler depuis différentes parties de votre code pour exécuter son calcul ou son action spécifique. Une fois l'exécution terminée, la fonction retourne à l’endroit où elle a été appelée.\n"
   ]
  },
  {
   "cell_type": "markdown",
   "metadata": {},
   "source": [
    "<h2 style=\"color: #3498DB; font-family: 'Segoe UI', Arial, sans-serif; font-size: 1.8em; border-bottom: 2px solid #3498DB; padding-bottom: 5px; margin-top: 40px;\">\n",
    "    II. Avantages des fonctions\n",
    "</h2>\n",
    "\n",
    "Pourquoi devriez-vous vous embêter à définir et utiliser des fonctions en Python ? Quels sont leurs avantages ? En fait, il y a plusieurs bonnes raisons de définir et utiliser des fonctions.\n",
    "\n",
    "<div id=\"section2a\"></div>\n",
    "<h3 style=\"color: #E67E22; font-family: 'Segoe UI', Arial, sans-serif; font-size: 1.4em; margin-top: 30px;\">\n",
    "    Abstraction\n",
    "</h3>\n",
    "\n",
    "Les fonctions permettent de **masquer les détails internes** d’une opération en exposant seulement une **interface simple** (le nom de la fonction et ses arguments). Cela simplifie l’utilisation sans avoir besoin de connaître l’implémentation interne, comme c’est le cas avec les fonctions intégrées de Python.\n",
    "\n",
    "\n",
    "\n",
    "<div id=\"section2b\"></div>\n",
    "<h3 style=\"color: #E67E22; font-family: 'Segoe UI', Arial, sans-serif; font-size: 1.4em; margin-top: 30px;\">\n",
    "    Encapsulation\n",
    "</h3>\n",
    "\n",
    "Les variables définies dans une fonction sont **locales à celle-ci**. Cela évite les interférences avec le reste du programme, même si d'autres variables ont le même nom. Résultat : **meilleure isolation des données** et protection contre les modifications externes accidentelles.\n",
    "\n",
    "\n",
    "\n",
    "<div id=\"section2c\"></div>\n",
    "<h3 style=\"color: #E67E22; font-family: 'Segoe UI', Arial, sans-serif; font-size: 1.4em; margin-top: 30px;\">\n",
    "    Modularité\n",
    "</h3>\n",
    "\n",
    "Les fonctions permettent de **diviser un programme en petits blocs** autonomes et réutilisables. Cela rend le code **plus lisible, organisé et facile à maintenir**. Par exemple, au lieu d’enchaîner les instructions pour lire, traiter et écrire un fichier, on peut créer trois fonctions dédiées, chacune pour une tâche précise.\n",
    "\n",
    "\n",
    "\n",
    "**Exemple sans fonctions :**\n",
    "```python\n",
    "# Programme principal\n",
    "# Lire le fichier\n",
    "<instruction_0>\n",
    "<instruction_1>\n",
    "...\n",
    "<instruction_n>\n",
    "# Traiter le fichier\n",
    "<instruction_0>\n",
    "<instruction_1>\n",
    "...\n",
    "<instruction_n>\n",
    "# Écrire le résultat dans un autre fichier\n",
    "<instruction_0>\n",
    "<instruction_1>\n",
    "...\n",
    "<instruction_n>\n",
    "```\n",
    "\n",
    "**Exemple avec fonctions :**"
   ]
  },
  {
   "cell_type": "code",
   "execution_count": 89,
   "metadata": {},
   "outputs": [
    {
     "ename": "IndentationError",
     "evalue": "expected an indented block after function definition on line 1 (1454981666.py, line 7)",
     "output_type": "error",
     "traceback": [
      "  \u001b[36mCell\u001b[39m\u001b[36m \u001b[39m\u001b[32mIn[89]\u001b[39m\u001b[32m, line 7\u001b[39m\n\u001b[31m    \u001b[39m\u001b[31mdef traiter_fichier():\u001b[39m\n    ^\n\u001b[31mIndentationError\u001b[39m\u001b[31m:\u001b[39m expected an indented block after function definition on line 1\n"
     ]
    }
   ],
   "source": [
    "def lire_fichier():\n",
    "    # <instruction_0>\n",
    "    # <instruction_1>\n",
    "    # ...\n",
    "    # <instruction_n>\n",
    "\n",
    "def traiter_fichier():\n",
    "    # <instruction_0>\n",
    "    # <instruction_1>\n",
    "    # ...\n",
    "    # <instruction_n>\n",
    "\n",
    "def ecrire_fichier():\n",
    "    # <instruction_0>\n",
    "    # <instruction_1>\n",
    "    # ...\n",
    "    # <instruction_n>\n",
    "\n",
    "# Programme principal\n",
    "lire_fichier()\n",
    "traiter_fichier()\n",
    "ecrire_fichier()"
   ]
  },
  {
   "cell_type": "markdown",
   "metadata": {},
   "source": [
    "À mesure que les programmes deviennent plus complexes, les modulariser à l’aide de fonctions devient de plus en plus avantageux. Diviser une tâche en sous-tâches plus petites vous aide à mieux gérer des problèmes de programmation complexes. Cela facilite également le débogage, car vous pouvez vous concentrer sur des tâches plus simples, qui sont souvent plus faciles à corriger que des tâches complexes et trop longues."
   ]
  },
  {
   "cell_type": "markdown",
   "metadata": {},
   "source": [
    "\n",
    "<div id=\"section2d\"></div>\n",
    "<h3 style=\"color: #E67E22; font-family: 'Segoe UI', Arial, sans-serif; font-size: 1.4em; margin-top: 30px;\">\n",
    "    Réutilisabilité\n",
    "</h3>\n",
    "\n",
    "Les fonctions favorisent la **réutilisation du code** dans différents contextes sans avoir à le réécrire. Une même fonction peut être appelée à plusieurs endroits dans un programme, ou même réutilisée dans d'autres projets.\n",
    "\n",
    "Ce principe suit la règle **DRY (Don't Repeat Yourself)**, qui vise à éviter la répétition inutile et à rendre le code plus maintenable et évolutif.\n"
   ]
  },
  {
   "cell_type": "markdown",
   "metadata": {},
   "source": [
    "<div id=\"section3\"></div>\n",
    "<a href=\"#toc\" style=\"background-color: #E1B12D; color: #ffffff; padding: 7px 15px; text-decoration: none; border-radius: 50px;\">Retour en haut</a>\n",
    "\n",
    "<h2 style=\"color: #3498DB; font-family: 'Segoe UI', Arial, sans-serif; font-size: 1.8em; border-bottom: 2px solid #3498DB; padding-bottom: 5px; margin-top: 40px;\">\n",
    "    III. Définir des fonctions en Python\n",
    "</h2>\n",
    "\n",
    "Il est maintenant temps de commencer à définir vos propres fonctions en Python. La syntaxe générale pour définir une fonction est présentée ci-dessous :\n",
    "\n",
    "**Syntaxe de base :**\n",
    "```python\n",
    "def nom_fonction([paramètres]):\n",
    "    <bloc>\n",
    "```\n",
    "\n",
    "<figure style=\"padding: 1em; text-align: center;\">\n",
    "    <img src=\"https://www.programiz.com/sites/tutorial2program/files/create-function-python.png\" width=\"700\" height=\"200\" alt=\"Code modulaire\">\n",
    "    <figcaption style=\"font-size: 0.9em; color: #3498db; margin-top: 0.5em;\">\n",
    "        <i>Definition fonction Python</i>\n",
    "    </figcaption>\n",
    "</figure>\n",
    "\n",
    "Voici une répartition des composants de cette syntaxe :\n",
    "\n",
    "| Composant | Description |\n",
    "|-----------|-------------|\n",
    "| `def` | Le mot-clé qui commence la définition de fonction |\n",
    "| `nom_fonction` | Un identifiant Python valide qui nomme la fonction |\n",
    "| `[paramètres]` | Une liste optionnelle de paramètres formels séparés par des virgules |\n",
    "| `:` | La ponctuation qui indique la fin de l'en-tête de fonction |\n",
    "| `<bloc>` | Le bloc de code de la fonction |\n",
    "\n",
    "**Exemple de première fonction :**"
   ]
  },
  {
   "cell_type": "code",
   "execution_count": 92,
   "metadata": {},
   "outputs": [
    {
     "name": "stdout",
     "output_type": "stream",
     "text": [
      "Bonjour, Alban!\n"
     ]
    }
   ],
   "source": [
    "def saluer(nom):\n",
    "    print(f\"Bonjour, {nom}!\")\n",
    "\n",
    "saluer(\"Alban\")"
   ]
  },
  {
   "cell_type": "markdown",
   "metadata": {},
   "source": [
    "<div id=\"section4\"></div>\n",
    "<a href=\"#toc\" style=\"background-color: #E1B12D; color: #ffffff; padding: 7px 15px; text-decoration: none; border-radius: 50px;\">Retour en haut</a>\n",
    "\n",
    "<h2 style=\"color: #3498DB; font-family: 'Segoe UI', Arial, sans-serif; font-size: 1.8em; border-bottom: 2px solid #3498DB; padding-bottom: 5px; margin-top: 40px;\">\n",
    "    IV. Appel de fonctions en Python\n",
    "</h2>\n",
    "\n",
    "Vous avez déjà appelé plusieurs fonctions jusqu’à présent. La syntaxe consiste à écrire le nom de la fonction suivi d'une paire de parenthèses, qui entoure une série optionnelle d'arguments :\n",
    "\n",
    "```python\n",
    "nom_fonction([arguments])\n",
    "```\n",
    "\n",
    "\n",
    "<figure style=\"padding: 1em; text-align: center;\">\n",
    "    <img src=\"https://miro.medium.com/v2/resize:fit:1400/1*kmQRsWwMdw6UPxw5VorLGg.png\" width=\"800\" height=\"300\" alt=\"Code modulaire\">\n",
    "    <figcaption style=\"font-size: 0.9em; color: #3498db; margin-top: 0.5em;\">\n",
    "        <i>Keyword Arguments vs Positional Arguments</i>\n",
    "    </figcaption>\n",
    "</figure>\n",
    "\n",
    "\n",
    "<div id=\"section4a\"></div>\n",
    "<h3 style=\"color: #E67E22; font-family: 'Segoe UI', Arial, sans-serif; font-size: 1.4em; margin-top: 30px;\">\n",
    "    Arguments positionnels\n",
    "</h3>\n",
    "\n",
    "Le moyen le plus rapide d'appeler une fonction avec des arguments est de s'appuyer sur la position spécifique de chaque argument. Dans ce cas, vous utiliserez ce qu'on appelle les arguments positionnels.\n",
    "\n",
    "**Exemple :**"
   ]
  },
  {
   "cell_type": "code",
   "execution_count": 39,
   "metadata": {},
   "outputs": [
    {
     "name": "stdout",
     "output_type": "stream",
     "text": [
      "6 bananes coûtent 4.44€\n"
     ]
    }
   ],
   "source": [
    "def calculer_cout(article, quantite, prix):\n",
    "    print(f\"{quantite} {article} coûtent {quantite * prix:.2f}€\")\n",
    "\n",
    "calculer_cout(\"bananes\", 6, 0.74)"
   ]
  },
  {
   "cell_type": "markdown",
   "metadata": {},
   "source": [
    "Les paramètres `article`, `quantite`, et `prix` sont comme des variables définies localement dans la fonction. Quand vous appelez la fonction, les valeurs `\"bananes\"`, `6`, et `0.74` sont liées aux paramètres dans l'ordre :\n",
    "\n",
    "| Paramètre | ← | Valeur |\n",
    "|-----------|---|--------|\n",
    "| article | ← | \"bananes\" |\n",
    "| quantite | ← | 6 |\n",
    "| prix | ← | 0.74 |\n",
    "\n",
    "**Attention aux erreurs d'ordre :**"
   ]
  },
  {
   "cell_type": "code",
   "execution_count": 40,
   "metadata": {},
   "outputs": [
    {
     "name": "stdout",
     "output_type": "stream",
     "text": [
      "0.74 bananes coûtent 4.44€\n"
     ]
    }
   ],
   "source": [
    "calculer_cout(\"bananes\", 0.74, 6)"
   ]
  },
  {
   "cell_type": "code",
   "execution_count": 41,
   "metadata": {},
   "outputs": [
    {
     "ename": "TypeError",
     "evalue": "can't multiply sequence by non-int of type 'float'",
     "output_type": "error",
     "traceback": [
      "\u001b[31m---------------------------------------------------------------------------\u001b[39m",
      "\u001b[31mTypeError\u001b[39m                                 Traceback (most recent call last)",
      "\u001b[36mCell\u001b[39m\u001b[36m \u001b[39m\u001b[32mIn[41]\u001b[39m\u001b[32m, line 1\u001b[39m\n\u001b[32m----> \u001b[39m\u001b[32m1\u001b[39m \u001b[43mcalculer_cout\u001b[49m\u001b[43m(\u001b[49m\u001b[32;43m6\u001b[39;49m\u001b[43m,\u001b[49m\u001b[43m \u001b[49m\u001b[33;43m\"\u001b[39;49m\u001b[33;43mbananes\u001b[39;49m\u001b[33;43m\"\u001b[39;49m\u001b[43m,\u001b[49m\u001b[43m \u001b[49m\u001b[32;43m0.74\u001b[39;49m\u001b[43m)\u001b[49m\n",
      "\u001b[36mCell\u001b[39m\u001b[36m \u001b[39m\u001b[32mIn[39]\u001b[39m\u001b[32m, line 2\u001b[39m, in \u001b[36mcalculer_cout\u001b[39m\u001b[34m(article, quantite, prix)\u001b[39m\n\u001b[32m      1\u001b[39m \u001b[38;5;28;01mdef\u001b[39;00m \u001b[34mcalculer_cout\u001b[39m(article, quantite, prix):\n\u001b[32m----> \u001b[39m\u001b[32m2\u001b[39m     \u001b[38;5;28mprint\u001b[39m(\u001b[33mf\u001b[39m\u001b[33m\"\u001b[39m\u001b[38;5;132;01m{\u001b[39;00mquantite\u001b[38;5;132;01m}\u001b[39;00m\u001b[33m \u001b[39m\u001b[38;5;132;01m{\u001b[39;00marticle\u001b[38;5;132;01m}\u001b[39;00m\u001b[33m coûtent \u001b[39m\u001b[38;5;132;01m{\u001b[39;00m\u001b[43mquantite\u001b[49m\u001b[38;5;250;43m \u001b[39;49m\u001b[43m*\u001b[49m\u001b[38;5;250;43m \u001b[39;49m\u001b[43mprix\u001b[49m\u001b[38;5;132;01m:\u001b[39;00m\u001b[33m.2f\u001b[39m\u001b[38;5;132;01m}\u001b[39;00m\u001b[33m€\u001b[39m\u001b[33m\"\u001b[39m)\n",
      "\u001b[31mTypeError\u001b[39m: can't multiply sequence by non-int of type 'float'"
     ]
    }
   ],
   "source": [
    "calculer_cout(6, \"bananes\", 0.74)"
   ]
  },
  {
   "cell_type": "markdown",
   "metadata": {},
   "source": [
    "Les arguments positionnels sont conceptuellement simples à utiliser, mais ils ne sont pas indulgents. Vous devez spécifier le même nombre d'arguments dans l'appel de fonction qu'il y a de paramètres dans la définition, et ils doivent être dans exactement le même ordre.\n",
    "\n",
    "\n",
    "Un inconvénient des arguments positionnels est qu’ils peuvent rendre le code difficile à lire.  \n",
    "Par exemple, avec cet appel hypothétique :\n",
    "\n",
    "```python\n",
    "update_product(1234, 15, 2.55, \"12-31-2025\")\n",
    "```\n",
    "\n",
    "Il est difficile de deviner ce que représente chaque valeur sans voir la définition de la fonction.\n",
    "\n",
    "Dans la section suivante, vous découvrirez une autre manière d’appeler les fonctions en Python pour remédier à ce problème."
   ]
  },
  {
   "cell_type": "markdown",
   "metadata": {},
   "source": [
    "<div id=\"section4a\"></div>\n",
    "<h3 style=\"color: #E67E22; font-family: 'Segoe UI', Arial, sans-serif; font-size: 1.4em; margin-top: 30px;\">\n",
    "    Arguments par mot-clé (Keyword Arguments)\n",
    "</h3>\n",
    "\n",
    "Lors de l'appel d'une fonction, vous pouvez spécifier des arguments sous la forme `argument=valeur`. Cette méthode de passage d'arguments à une fonction Python est connue sous le nom d'**arguments par mot-clé**. \n",
    "\n",
    "Par exemple, vous pouvez appeler la fonction `calculer_cout()` comme suit :"
   ]
  },
  {
   "cell_type": "code",
   "execution_count": 42,
   "metadata": {},
   "outputs": [
    {
     "name": "stdout",
     "output_type": "stream",
     "text": [
      "6 bananes coûtent 4.44€\n"
     ]
    }
   ],
   "source": [
    "calculer_cout(article=\"bananes\", quantite=6, prix=0.74)"
   ]
  },
  {
   "cell_type": "markdown",
   "metadata": {},
   "source": [
    "L'utilisation d'arguments par mot-clé supprime la restriction sur l'ordre des arguments car chaque argument par mot-clé désigne explicitement un paramètre spécifique par nom. Vous pouvez donc les spécifier dans n'importe quel ordre :"
   ]
  },
  {
   "cell_type": "code",
   "execution_count": 43,
   "metadata": {},
   "outputs": [
    {
     "name": "stdout",
     "output_type": "stream",
     "text": [
      "6 bananes coûtent 4.44€\n"
     ]
    }
   ],
   "source": [
    "calculer_cout(prix=0.74, quantite=6, article=\"bananes\")"
   ]
  },
  {
   "cell_type": "markdown",
   "metadata": {},
   "source": [
    "Les avantages des arguments par mot-clé:\n",
    "\n",
    "- **Flexibilité de l'ordre:** si vous utilisez des arguments par mot-clé lors d'un appel de fonction, Python a un moyen non ambigu de déterminer quel argument correspond à quel paramètre. Vous n'avez donc pas la restriction de fournir les arguments dans un ordre strict.\n",
    "\n",
    "- **Lisibilité améliorée:** considérez ces deux appels de fonction :\n",
    "\n",
    "\n",
    "```python\n",
    "# Avec des arguments positionnels\n",
    "mettre_a_jour_produit(1234, 15, 2.55, \"31-12-2025\")\n",
    "\n",
    "# Avec des arguments par mot-clé\n",
    "mettre_a_jour_produit(\n",
    "    id_produit=1234,\n",
    "    quantite=15,\n",
    "    prix=2.55,\n",
    "    date_expiration=\"31-12-2025\"\n",
    ")\n",
    "```"
   ]
  },
  {
   "cell_type": "markdown",
   "metadata": {},
   "source": [
    "\n",
    "N’est-ce pas que l’appel avec des arguments nommés est bien plus lisible que celui avec des arguments positionnels ?  \n",
    "Lorsque vous appelez des fonctions dans votre code, s’il y a un risque d’ambiguïté, essayez d’utiliser les arguments nommés autant que possible.  \n",
    "Ce petit détail améliorera grandement la **lisibilité** de votre code.\n",
    "\n",
    "\n",
    "\n",
    "#### Combinaison d'arguments positionnels et par mot-clé\n",
    "\n",
    "Vous pouvez également appeler une fonction en utilisant à la fois des arguments positionnels et par mot-clé :"
   ]
  },
  {
   "cell_type": "code",
   "execution_count": 93,
   "metadata": {},
   "outputs": [
    {
     "name": "stdout",
     "output_type": "stream",
     "text": [
      "6 bananes coûtent 4.44€\n"
     ]
    }
   ],
   "source": [
    "calculer_cout(\"bananes\", quantite=6, prix=0.74)"
   ]
  },
  {
   "cell_type": "markdown",
   "metadata": {},
   "source": [
    "**Règle importante :** Lorsque vous utilisez des arguments positionnels et par mot-clé dans un appel de fonction, tous les arguments positionnels doivent venir en premier :"
   ]
  },
  {
   "cell_type": "code",
   "execution_count": 94,
   "metadata": {},
   "outputs": [
    {
     "ename": "SyntaxError",
     "evalue": "positional argument follows keyword argument (724562651.py, line 1)",
     "output_type": "error",
     "traceback": [
      "  \u001b[36mCell\u001b[39m\u001b[36m \u001b[39m\u001b[32mIn[94]\u001b[39m\u001b[32m, line 1\u001b[39m\n\u001b[31m    \u001b[39m\u001b[31mcalculer_cout(article=\"bananes\", quantite=6, 0.74)\u001b[39m\n                                                     ^\n\u001b[31mSyntaxError\u001b[39m\u001b[31m:\u001b[39m positional argument follows keyword argument\n"
     ]
    }
   ],
   "source": [
    "calculer_cout(article=\"bananes\", quantite=6, 0.74)"
   ]
  },
  {
   "cell_type": "markdown",
   "metadata": {},
   "source": [
    "<div id=\"section2\"></div>\n",
    "<a href=\"#toc\" style=\"background-color: #E1B12D; color: #ffffff; padding: 7px 15px; text-decoration: none; border-radius: 50px;\">Retour en haut</a>\n",
    "\n",
    "<h2 style=\"color: #3498DB; font-family: 'Segoe UI', Arial, sans-serif; font-size: 1.8em; border-bottom: 2px solid #3498DB; padding-bottom: 5px; margin-top: 40px;\">\n",
    "    II. Retour depuis les fonctions\n",
    "</h2>\n",
    "\n",
    "<figure style=\"padding: 1em; text-align: center;\">\n",
    "    <img src=\"https://miro.medium.com/v2/resize:fit:1200/1*ZegxhR33NdeVRpBPYXnYYQ.gif\" width=\"700\" height=\"500\" alt=\"Retour de fonctions\">\n",
    "    <figcaption style=\"font-size: 0.9em; color: #3498db; margin-top: 0.5em;\">\n",
    "        <i>Les fonctions peuvent retourner des valeurs ou produire des effets de bord</i>\n",
    "    </figcaption>\n",
    "</figure>\n",
    "\n",
    "En général, les fonctions peuvent faire une ou plusieurs des choses suivantes :\n",
    "- Causer un effet de bord sur son environnement\n",
    "- Retourner une valeur à son appelant\n",
    "- Causer un effet de bord ET retourner une valeur\n",
    "\n",
    "### Produire des effets de bord\n",
    "\n",
    "Dans une fonction Python, vous pouvez modifier un objet depuis une portée externe. Ce changement se reflétera dans l'environnement appelant. Par exemple :"
   ]
  },
  {
   "cell_type": "code",
   "execution_count": 103,
   "metadata": {},
   "outputs": [
    {
     "data": {
      "text/plain": [
       "[2, 4, 6, 8, 10]"
      ]
     },
     "execution_count": 103,
     "metadata": {},
     "output_type": "execute_result"
    }
   ],
   "source": [
    "nombres = [1, 2, 3, 4, 5]\n",
    "\n",
    "def doubler(nombres):\n",
    "    for i in range(len(nombres)):\n",
    "        nombres[i] *= 2\n",
    "\n",
    "doubler(nombres)\n",
    "nombres"
   ]
  },
  {
   "cell_type": "markdown",
   "metadata": {},
   "source": [
    "Cette fonction fonctionne en générant un effet de bord - elle modifie la liste originale.\n",
    "\n",
    "### Éviter les effets de bord indésirables\n",
    "\n",
    "Pour éviter les effets de bord, vous pouvez créer une nouvelle liste :"
   ]
  },
  {
   "cell_type": "code",
   "execution_count": 105,
   "metadata": {},
   "outputs": [
    {
     "data": {
      "text/plain": [
       "[2, 4, 6, 8, 10]"
      ]
     },
     "execution_count": 105,
     "metadata": {},
     "output_type": "execute_result"
    }
   ],
   "source": [
    "def doubler(nombres):\n",
    "    resultat = []\n",
    "    for nombre in nombres:\n",
    "        resultat.append(nombre * 2)\n",
    "    return resultat\n",
    "\n",
    "\n",
    "nombres = [1, 2, 3, 4, 5]\n",
    "nombres_doubles = doubler(nombres)\n",
    "nombres_doubles"
   ]
  },
  {
   "cell_type": "code",
   "execution_count": 50,
   "metadata": {},
   "outputs": [
    {
     "data": {
      "text/plain": [
       "[1, 2, 3, 4, 5]"
      ]
     },
     "execution_count": 50,
     "metadata": {},
     "output_type": "execute_result"
    }
   ],
   "source": [
    "nombres"
   ]
  },
  {
   "cell_type": "markdown",
   "metadata": {},
   "source": [
    "Maintenant, les données originales restent inchangées.\n",
    "\n",
    "### Retourner des valeurs\n",
    "\n",
    "Les fonctions Python peuvent retourner des valeurs concrètes. Pour cela, vous utilisez l'instruction `return` :\n"
   ]
  },
  {
   "cell_type": "code",
   "execution_count": 108,
   "metadata": {},
   "outputs": [
    {
     "data": {
      "text/plain": [
       "42"
      ]
     },
     "execution_count": 108,
     "metadata": {},
     "output_type": "execute_result"
    }
   ],
   "source": [
    "def identite(x):\n",
    "    return x\n",
    "\n",
    "x = identite(42)\n",
    "x"
   ]
  },
  {
   "cell_type": "markdown",
   "metadata": {},
   "source": [
    "#### Retourner plusieurs valeurs\n",
    "\n",
    "Vous pouvez retourner plusieurs valeurs séparées par des virgules :"
   ]
  },
  {
   "cell_type": "code",
   "execution_count": 109,
   "metadata": {},
   "outputs": [
    {
     "data": {
      "text/plain": [
       "(2, 4)"
      ]
     },
     "execution_count": 109,
     "metadata": {},
     "output_type": "execute_result"
    }
   ],
   "source": [
    "def creer_point(x, y):\n",
    "    return x, y\n",
    "\n",
    "creer_point(2, 4)"
   ]
  },
  {
   "cell_type": "markdown",
   "metadata": {},
   "source": [
    "#### Retourner None\n",
    "\n",
    "Une fonction peut retourner `None` explicitement ou implicitement :\n"
   ]
  },
  {
   "cell_type": "code",
   "execution_count": 111,
   "metadata": {},
   "outputs": [
    {
     "name": "stdout",
     "output_type": "stream",
     "text": [
      "None\n"
     ]
    }
   ],
   "source": [
    "def fonction():\n",
    "    return\n",
    "\n",
    "print(fonction())"
   ]
  },
  {
   "cell_type": "markdown",
   "metadata": {},
   "source": [
    "### Sortir prématurément des fonctions\n",
    "\n",
    "L'instruction `return` permet de sortir d'une fonction immédiatement :"
   ]
  },
  {
   "cell_type": "code",
   "execution_count": null,
   "metadata": {},
   "outputs": [],
   "source": [
    "\"\"\"from pathlib import Path\n",
    "\n",
    "def lire_contenu_fichier(chemin_fichier):\n",
    "    chemin = Path(chemin_fichier)\n",
    "    if not chemin.exists():\n",
    "        print(f\"Erreur : Le fichier '{chemin_fichier}' n'existe pas.\")\n",
    "        return\n",
    "    if not chemin.is_file():\n",
    "        print(f\"Erreur : '{chemin_fichier}' n'est pas un fichier.\")\n",
    "        return\n",
    "    return chemin.read_text(encoding=\"utf-8\")\"\"\""
   ]
  },
  {
   "cell_type": "markdown",
   "metadata": {},
   "source": [
    "### Retourner des valeurs booléennes\n",
    "\n",
    "Les fonctions peuvent retourner `True` ou `False` selon une condition :"
   ]
  },
  {
   "cell_type": "code",
   "execution_count": 55,
   "metadata": {},
   "outputs": [
    {
     "data": {
      "text/plain": [
       "True"
      ]
     },
     "execution_count": 55,
     "metadata": {},
     "output_type": "execute_result"
    }
   ],
   "source": [
    "def est_pair(nombre):\n",
    "    return nombre % 2 == 0\n",
    "\n",
    "est_pair(2)"
   ]
  },
  {
   "cell_type": "code",
   "execution_count": 56,
   "metadata": {},
   "outputs": [
    {
     "data": {
      "text/plain": [
       "False"
      ]
     },
     "execution_count": 56,
     "metadata": {},
     "output_type": "execute_result"
    }
   ],
   "source": [
    "est_pair(3)"
   ]
  },
  {
   "cell_type": "markdown",
   "metadata": {},
   "source": [
    "\n",
    "<div id=\"section3\"></div>\n",
    "<a href=\"#toc\" style=\"background-color: #E1B12D; color: #ffffff; padding: 7px 15px; text-decoration: none; border-radius: 50px;\">Retour en haut</a>\n",
    "\n",
    "<h2 style=\"color: #3498DB; font-family: 'Segoe UI', Arial, sans-serif; font-size: 1.8em; border-bottom: 2px solid #3498DB; padding-bottom: 5px; margin-top: 40px;\">\n",
    "    III. Valeurs d'arguments par défaut\n",
    "</h2>\n",
    "\n",
    "<figure style=\"padding: 1em; text-align: center;\">\n",
    "    <img src=\"https://miro.medium.com/v2/resize:fit:1400/1*9GmBhUGvEsH_6gGxhzKJMQ.png\" width=\"600\" height=\"300\" alt=\"Arguments par défaut\">\n",
    "    <figcaption style=\"font-size: 0.9em; color: #3498db; margin-top: 0.5em;\">\n",
    "        <i>Les arguments par défaut rendent les paramètres optionnels</i>\n",
    "    </figcaption>\n",
    "</figure>\n",
    "\n",
    "Si vous assignez une valeur à un paramètre dans la définition d'une fonction, cette valeur devient une **valeur d'argument par défaut**. Les paramètres avec une valeur par défaut sont optionnels.\n",
    "\n",
    "### Exemple simple"
   ]
  },
  {
   "cell_type": "code",
   "execution_count": 57,
   "metadata": {},
   "outputs": [
    {
     "name": "stdout",
     "output_type": "stream",
     "text": [
      "Bonjour, Monde!\n"
     ]
    }
   ],
   "source": [
    "def saluer(nom=\"Monde\"):\n",
    "    print(f\"Bonjour, {nom}!\")\n",
    "\n",
    "saluer()"
   ]
  },
  {
   "cell_type": "code",
   "execution_count": 58,
   "metadata": {},
   "outputs": [
    {
     "name": "stdout",
     "output_type": "stream",
     "text": [
      "Bonjour, Pythonista!\n"
     ]
    }
   ],
   "source": [
    "saluer(\"Pythonista\")"
   ]
  },
  {
   "cell_type": "markdown",
   "metadata": {},
   "source": [
    "### Arguments booléens comme drapeaux"
   ]
  },
  {
   "cell_type": "code",
   "execution_count": 59,
   "metadata": {},
   "outputs": [],
   "source": [
    "def saluer(nom, verbeux=False):\n",
    "    if verbeux:\n",
    "        print(f\"Bonjour, {nom}! Bienvenue dans le monde Python!\")\n",
    "    else:\n",
    "        print(f\"Bonjour, {nom}!\")"
   ]
  },
  {
   "cell_type": "code",
   "execution_count": 60,
   "metadata": {},
   "outputs": [
    {
     "name": "stdout",
     "output_type": "stream",
     "text": [
      "Bonjour, Pythonista! Bienvenue dans le monde Python!\n"
     ]
    }
   ],
   "source": [
    "saluer(\"Pythonista\", verbeux=True)"
   ]
  },
  {
   "cell_type": "code",
   "execution_count": 61,
   "metadata": {},
   "outputs": [
    {
     "name": "stdout",
     "output_type": "stream",
     "text": [
      "Bonjour, Pythonista!\n"
     ]
    }
   ],
   "source": [
    "saluer(\"Pythonista\")"
   ]
  },
  {
   "cell_type": "markdown",
   "metadata": {},
   "source": [
    "### Piège : Objets mutables comme valeurs par défaut\n",
    "\n",
    "**Problème :** Utiliser un objet mutable comme valeur par défaut peut causer des problèmes :"
   ]
  },
  {
   "cell_type": "code",
   "execution_count": 62,
   "metadata": {},
   "outputs": [
    {
     "data": {
      "text/plain": [
       "[1]"
      ]
     },
     "execution_count": 62,
     "metadata": {},
     "output_type": "execute_result"
    }
   ],
   "source": [
    "def ajouter_a(element, cible=[]):\n",
    "    cible.append(element)\n",
    "    return cible\n",
    "\n",
    "ajouter_a(1)"
   ]
  },
  {
   "cell_type": "code",
   "execution_count": 63,
   "metadata": {},
   "outputs": [
    {
     "data": {
      "text/plain": [
       "[1, 2]"
      ]
     },
     "execution_count": 63,
     "metadata": {},
     "output_type": "execute_result"
    }
   ],
   "source": [
    "ajouter_a(2)"
   ]
  },
  {
   "cell_type": "code",
   "execution_count": 64,
   "metadata": {},
   "outputs": [
    {
     "data": {
      "text/plain": [
       "[1, 2, 3]"
      ]
     },
     "execution_count": 64,
     "metadata": {},
     "output_type": "execute_result"
    }
   ],
   "source": [
    "ajouter_a(3)"
   ]
  },
  {
   "cell_type": "markdown",
   "metadata": {},
   "source": [
    "**Solution :** Utiliser `None` comme valeur par défaut :"
   ]
  },
  {
   "cell_type": "code",
   "execution_count": 65,
   "metadata": {},
   "outputs": [],
   "source": [
    "def ajouter_a(element, cible=None):\n",
    "    if cible is None:\n",
    "        cible = []\n",
    "    cible.append(element)\n",
    "    return cible"
   ]
  },
  {
   "cell_type": "code",
   "execution_count": 66,
   "metadata": {},
   "outputs": [
    {
     "data": {
      "text/plain": [
       "[1]"
      ]
     },
     "execution_count": 66,
     "metadata": {},
     "output_type": "execute_result"
    }
   ],
   "source": [
    "ajouter_a(1)"
   ]
  },
  {
   "cell_type": "code",
   "execution_count": 67,
   "metadata": {},
   "outputs": [
    {
     "data": {
      "text/plain": [
       "[2]"
      ]
     },
     "execution_count": 67,
     "metadata": {},
     "output_type": "execute_result"
    }
   ],
   "source": [
    "ajouter_a(2)"
   ]
  },
  {
   "cell_type": "code",
   "execution_count": 68,
   "metadata": {},
   "outputs": [
    {
     "data": {
      "text/plain": [
       "[3]"
      ]
     },
     "execution_count": 68,
     "metadata": {},
     "output_type": "execute_result"
    }
   ],
   "source": [
    "ajouter_a(3)"
   ]
  },
  {
   "cell_type": "markdown",
   "metadata": {},
   "source": [
    "<div id=\"section4\"></div>\n",
    "<a href=\"#toc\" style=\"background-color: #E1B12D; color: #ffffff; padding: 7px 15px; text-decoration: none; border-radius: 50px;\">Retour en haut</a>\n",
    "\n",
    "<h2 style=\"color: #3498DB; font-family: 'Segoe UI', Arial, sans-serif; font-size: 1.8em; border-bottom: 2px solid #3498DB; padding-bottom: 5px; margin-top: 40px;\">\n",
    "    IV. Nombre variable d'arguments positionnels : *args\n",
    "</h2>\n",
    "\n",
    "<figure style=\"padding: 1em; text-align: center;\">\n",
    "    <img src=\"https://miro.medium.com/v2/resize:fit:1400/1*Vf7-YjgL5FBX5DQf1tBVDQ.png\" width=\"600\" height=\"300\" alt=\"*args\">\n",
    "    <figcaption style=\"font-size: 0.9em; color: #3498db; margin-top: 0.5em;\">\n",
    "        <i>*args permet d'accepter un nombre arbitraire d'arguments positionnels</i>\n",
    "    </figcaption>\n",
    "</figure>\n",
    "\n",
    "Python fournit une syntaxe pour passer un nombre arbitraire d'arguments positionnels à une fonction. Cette syntaxe consiste à ajouter un astérisque devant le nom de l'argument : `*args`.\n",
    "\n",
    "### Syntaxe de base"
   ]
  },
  {
   "cell_type": "code",
   "execution_count": 70,
   "metadata": {},
   "outputs": [
    {
     "name": "stdout",
     "output_type": "stream",
     "text": [
      "(1, 2, 3, 4, 5)\n"
     ]
    }
   ],
   "source": [
    "def fonction(*args):\n",
    "    print(args)\n",
    "\n",
    "fonction(1, 2, 3, 4, 5)"
   ]
  },
  {
   "cell_type": "markdown",
   "metadata": {},
   "source": [
    "Python empaquette les arguments dans un tuple.\n",
    "\n",
    "### Exemple pratique : Fonction moyenne"
   ]
  },
  {
   "cell_type": "code",
   "execution_count": 71,
   "metadata": {},
   "outputs": [
    {
     "data": {
      "text/plain": [
       "4.5"
      ]
     },
     "execution_count": 71,
     "metadata": {},
     "output_type": "execute_result"
    }
   ],
   "source": [
    "def moyenne(*args):\n",
    "    return sum(args) / len(args)\n",
    "\n",
    "moyenne(1, 2, 3, 4, 5, 6)\n",
    "moyenne(1, 2, 3, 4, 5, 6, 7)\n",
    "moyenne(1, 2, 3, 4, 5, 6, 7, 8)"
   ]
  },
  {
   "cell_type": "markdown",
   "metadata": {},
   "source": [
    "Cette fonction est flexible et peut calculer la moyenne d'un nombre arbitraire de valeurs.\n",
    "\n",
    "<div id=\"section5\"></div>\n",
    "<a href=\"#toc\" style=\"background-color: #E1B12D; color: #ffffff; padding: 7px 15px; text-decoration: none; border-radius: 50px;\">Retour en haut</a>\n",
    "\n",
    "<h2 style=\"color: #3498DB; font-family: 'Segoe UI', Arial, sans-serif; font-size: 1.8em; border-bottom: 2px solid #3498DB; padding-bottom: 5px; margin-top: 40px;\">\n",
    "    V. Nombre variable d'arguments par mot-clé : **kwargs\n",
    "</h2>\n",
    "\n",
    "<figure style=\"padding: 1em; text-align: center;\">\n",
    "    <img src=\"https://miro.medium.com/v2/resize:fit:1400/1*M0HBZJk3XcWQzVuTrTuWYg.png\" width=\"600\" height=\"300\" alt=\"**kwargs\">\n",
    "    <figcaption style=\"font-size: 0.9em; color: #3498db; margin-top: 0.5em;\">\n",
    "        <i>**kwargs permet d'accepter un nombre arbitraire d'arguments par mot-clé</i>\n",
    "    </figcaption>\n",
    "</figure>\n",
    "\n",
    "La syntaxe `**kwargs` permet de passer un nombre arbitraire d'arguments par mot-clé à une fonction. Python empaquette ces arguments dans un dictionnaire.\n",
    "\n",
    "### Syntaxe de base"
   ]
  },
  {
   "cell_type": "code",
   "execution_count": 72,
   "metadata": {},
   "outputs": [
    {
     "name": "stdout",
     "output_type": "stream",
     "text": [
      "{'un': 1, 'deux': 2, 'trois': 3}\n"
     ]
    }
   ],
   "source": [
    "def fonction(**kwargs):\n",
    "    print(kwargs)\n",
    "\n",
    "fonction(un=1, deux=2, trois=3)"
   ]
  },
  {
   "cell_type": "code",
   "execution_count": 73,
   "metadata": {},
   "outputs": [],
   "source": [
    "### Exemple pratique : Générateur de rapport"
   ]
  },
  {
   "cell_type": "code",
   "execution_count": 74,
   "metadata": {},
   "outputs": [
    {
     "name": "stdout",
     "output_type": "stream",
     "text": [
      "Rapport:\n",
      " - Nom: Clavier\n",
      " - Prix: 19.99\n",
      " - Quantite: 5\n",
      " - Categorie: Composants PC\n"
     ]
    }
   ],
   "source": [
    "def rapport(**kwargs):\n",
    "    print(\"Rapport:\")\n",
    "    for cle, valeur in kwargs.items():\n",
    "        print(f\" - {cle.capitalize()}: {valeur}\")\n",
    "\n",
    "rapport(nom=\"Clavier\", prix=19.99, quantite=5, categorie=\"Composants PC\")"
   ]
  },
  {
   "cell_type": "markdown",
   "metadata": {},
   "source": [
    "### Combinaison de *args et **kwargs\n",
    "\n",
    "Vous pouvez combiner `*args` et `**kwargs` dans une même fonction :"
   ]
  },
  {
   "cell_type": "code",
   "execution_count": 75,
   "metadata": {},
   "outputs": [
    {
     "name": "stdout",
     "output_type": "stream",
     "text": [
      "(1, 2, 3)\n",
      "{'un': 1, 'deux': 2, 'trois': 3}\n"
     ]
    }
   ],
   "source": [
    "def fonction(*args, **kwargs):\n",
    "    print(args)\n",
    "    print(kwargs)\n",
    "\n",
    "fonction(1, 2, 3, un=1, deux=2, trois=3)"
   ]
  },
  {
   "cell_type": "code",
   "execution_count": 76,
   "metadata": {},
   "outputs": [],
   "source": [
    "### Avec des arguments réguliers"
   ]
  },
  {
   "cell_type": "code",
   "execution_count": 77,
   "metadata": {},
   "outputs": [
    {
     "name": "stdout",
     "output_type": "stream",
     "text": [
      "A\n",
      "B\n",
      "(1, 2, 3)\n",
      "{'un': 1, 'deux': 2, 'trois': 3}\n"
     ]
    }
   ],
   "source": [
    "def fonction(a, b, *args, **kwargs):\n",
    "    print(a)\n",
    "    print(b)\n",
    "    print(args)\n",
    "    print(kwargs)\n",
    "\n",
    "fonction(\"A\", \"B\", 1, 2, 3, un=1, deux=2, trois=3)"
   ]
  },
  {
   "cell_type": "markdown",
   "metadata": {},
   "source": [
    "**Ordre obligatoire :** arguments positionnels, puis `*args`, puis `**kwargs`.\n",
    "\n",
    "<div id=\"section6\"></div>\n",
    "<a href=\"#toc\" style=\"background-color: #E1B12D; color: #ffffff; padding: 7px 15px; text-decoration: none; border-radius: 50px;\">Retour en haut</a>\n",
    "\n",
    "<h2 style=\"color: #3498DB; font-family: 'Segoe UI', Arial, sans-serif; font-size: 1.8em; border-bottom: 2px solid #3498DB; padding-bottom: 5px; margin-top: 40px;\">\n",
    "    VI. Arguments positionnels uniquement et par mot-clé uniquement\n",
    "</h2>\n",
    "\n",
    "<figure style=\"padding: 1em; text-align: center;\">\n",
    "    <img src=\"https://miro.medium.com/v2/resize:fit:1400/1*7sNQBvFLvJnKzpTxz1fCFg.png\" width=\"600\" height=\"300\" alt=\"Arguments spécialisés\">\n",
    "    <figcaption style=\"font-size: 0.9em; color: #3498db; margin-top: 0.5em;\">\n",
    "        <i>Contrôlez précisément comment vos fonctions peuvent être appelées</i>\n",
    "    </figcaption>\n",
    "</figure>\n",
    "\n",
    "### Arguments positionnels uniquement\n",
    "\n",
    "Depuis Python 3.8, vous pouvez avoir des arguments qui doivent être fournis positionnellement et ne peuvent pas être spécifiés par mot-clé. Utilisez une barre oblique (`/`) dans la liste des paramètres :"
   ]
  },
  {
   "cell_type": "code",
   "execution_count": 78,
   "metadata": {},
   "outputs": [
    {
     "data": {
      "text/plain": [
       "'Jane Doe'"
      ]
     },
     "execution_count": 78,
     "metadata": {},
     "output_type": "execute_result"
    }
   ],
   "source": [
    "def formater_nom(prenom, nom, /, titre=None):\n",
    "    nom_complet = f\"{prenom} {nom}\"\n",
    "    if titre is not None:\n",
    "        nom_complet = f\"{titre} {nom_complet}\"\n",
    "    return nom_complet\n",
    "\n",
    "# Appels corrects\n",
    "formater_nom(\"Jane\", \"Doe\")"
   ]
  },
  {
   "cell_type": "code",
   "execution_count": 79,
   "metadata": {},
   "outputs": [
    {
     "data": {
      "text/plain": [
       "'Dr. John Doe'"
      ]
     },
     "execution_count": 79,
     "metadata": {},
     "output_type": "execute_result"
    }
   ],
   "source": [
    "formater_nom(\"John\", \"Doe\", titre=\"Dr.\")"
   ]
  },
  {
   "cell_type": "code",
   "execution_count": 80,
   "metadata": {},
   "outputs": [
    {
     "data": {
      "text/plain": [
       "'PhD. Linda Brown'"
      ]
     },
     "execution_count": 80,
     "metadata": {},
     "output_type": "execute_result"
    }
   ],
   "source": [
    "formater_nom(\"Linda\", \"Brown\", \"PhD.\")"
   ]
  },
  {
   "cell_type": "code",
   "execution_count": 81,
   "metadata": {},
   "outputs": [
    {
     "ename": "TypeError",
     "evalue": "formater_nom() got some positional-only arguments passed as keyword arguments: 'nom'",
     "output_type": "error",
     "traceback": [
      "\u001b[31m---------------------------------------------------------------------------\u001b[39m",
      "\u001b[31mTypeError\u001b[39m                                 Traceback (most recent call last)",
      "\u001b[36mCell\u001b[39m\u001b[36m \u001b[39m\u001b[32mIn[81]\u001b[39m\u001b[32m, line 2\u001b[39m\n\u001b[32m      1\u001b[39m \u001b[38;5;66;03m# Appel incorrect\u001b[39;00m\n\u001b[32m----> \u001b[39m\u001b[32m2\u001b[39m \u001b[43mformater_nom\u001b[49m\u001b[43m(\u001b[49m\u001b[33;43m\"\u001b[39;49m\u001b[33;43mJohn\u001b[39;49m\u001b[33;43m\"\u001b[39;49m\u001b[43m,\u001b[49m\u001b[43m \u001b[49m\u001b[43mnom\u001b[49m\u001b[43m=\u001b[49m\u001b[33;43m\"\u001b[39;49m\u001b[33;43mDoe\u001b[39;49m\u001b[33;43m\"\u001b[39;49m\u001b[43m,\u001b[49m\u001b[43m \u001b[49m\u001b[43mtitre\u001b[49m\u001b[43m=\u001b[49m\u001b[33;43m\"\u001b[39;49m\u001b[33;43mDr.\u001b[39;49m\u001b[33;43m\"\u001b[39;49m\u001b[43m)\u001b[49m\n",
      "\u001b[31mTypeError\u001b[39m: formater_nom() got some positional-only arguments passed as keyword arguments: 'nom'"
     ]
    }
   ],
   "source": [
    "# Appel incorrect\n",
    "formater_nom(\"John\", nom=\"Doe\", titre=\"Dr.\")"
   ]
  },
  {
   "cell_type": "markdown",
   "metadata": {},
   "source": [
    "### Arguments par mot-clé uniquement\n",
    "\n",
    "Il y a deux façons de définir des arguments par mot-clé uniquement :\n",
    "\n",
    "**1. Ajouter des paramètres à droite de `*args` :**"
   ]
  },
  {
   "cell_type": "code",
   "execution_count": 82,
   "metadata": {},
   "outputs": [
    {
     "data": {
      "text/plain": [
       "6.87"
      ]
     },
     "execution_count": 82,
     "metadata": {},
     "output_type": "execute_result"
    }
   ],
   "source": [
    "def somme_nombres(*nombres, precision=2):\n",
    "    return round(sum(nombres), precision)\n",
    "\n",
    "somme_nombres(1.3467, 2.5243, precision=3)\n",
    "somme_nombres(1.3467, 2.5243, 3)  # 3 fait partie de *nombres"
   ]
  },
  {
   "cell_type": "markdown",
   "metadata": {},
   "source": [
    "**2. Utiliser un astérisque nu (`*`) :**"
   ]
  },
  {
   "cell_type": "code",
   "execution_count": 83,
   "metadata": {},
   "outputs": [
    {
     "name": "stdout",
     "output_type": "stream",
     "text": [
      "7\n",
      "-1\n"
     ]
    }
   ],
   "source": [
    "def calculer(x, y, *, operateur):\n",
    "    if operateur == \"+\":\n",
    "        return x + y\n",
    "    elif operateur == \"-\":\n",
    "        return x - y\n",
    "    elif operateur == \"*\":\n",
    "        return x * y\n",
    "    elif operateur == \"/\":\n",
    "        return x / y\n",
    "    else:\n",
    "        raise ValueError(\"Opérateur invalide\")\n",
    "\n",
    "# Utilisation correcte\n",
    "print(calculer(3, 4, operateur=\"+\"))  # 7\n",
    "print(calculer(3, 4, operateur=\"-\"))  # -1"
   ]
  },
  {
   "cell_type": "code",
   "execution_count": 84,
   "metadata": {},
   "outputs": [],
   "source": [
    "# Utilisation incorrecte (provoque une erreur)\n",
    "# print(calculer(3, 4, \"+\"))  # TypeError: calculer() takes 2 positional arguments but 3 were given"
   ]
  },
  {
   "cell_type": "markdown",
   "metadata": {},
   "source": [
    "### Combinaison complète\n",
    "\n",
    "Vous pouvez combiner tous les types d'arguments :"
   ]
  },
  {
   "cell_type": "code",
   "execution_count": 85,
   "metadata": {},
   "outputs": [
    {
     "name": "stdout",
     "output_type": "stream",
     "text": [
      "1 2 3 4 A B\n",
      "1 2 3 4 A B\n"
     ]
    }
   ],
   "source": [
    "def fonction(x, y, /, z, w, *, a, b):\n",
    "    print(x, y, z, w, a, b)\n",
    "\n",
    "# Appels corrects\n",
    "fonction(1, 2, 3, 4, a=\"A\", b=\"B\")\n",
    "fonction(1, 2, z=3, w=4, a=\"A\", b=\"B\")\n"
   ]
  },
  {
   "cell_type": "markdown",
   "metadata": {},
   "source": [
    "Dans cette fonction :\n",
    "- `x` et `y` sont positionnels uniquement\n",
    "- `z` et `w` peuvent être positionnels ou par mot-clé\n",
    "- `a` et `b` sont par mot-clé uniquement"
   ]
  },
  {
   "cell_type": "markdown",
   "metadata": {},
   "source": []
  }
 ],
 "metadata": {
  "kernelspec": {
   "display_name": "base",
   "language": "python",
   "name": "python3"
  },
  "language_info": {
   "codemirror_mode": {
    "name": "ipython",
    "version": 3
   },
   "file_extension": ".py",
   "mimetype": "text/x-python",
   "name": "python",
   "nbconvert_exporter": "python",
   "pygments_lexer": "ipython3",
   "version": "3.12.9"
  }
 },
 "nbformat": 4,
 "nbformat_minor": 2
}
