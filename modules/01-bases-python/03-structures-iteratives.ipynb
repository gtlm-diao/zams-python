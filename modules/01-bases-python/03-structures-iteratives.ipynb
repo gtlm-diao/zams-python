{
 "cells": [
  {
   "cell_type": "markdown",
   "metadata": {},
   "source": [
    "<a id=\"toc\"></a>\n",
    "\n",
    "<div style=\"background-color:rgb(27, 40, 54); padding: 20px; border-radius: 10px; margin-bottom: 30px;\">\n",
    "    <h1 style=\"color: white; font-family: 'Segoe UI', Arial, sans-serif; font-size: 2.8em; text-align: center; margin: 0;\">\n",
    "        Structures Itératives en Python\n",
    "    </h1>\n",
    "    <p style=\"color:rgb(242, 255, 0); font-family: 'Segoe UI', Arial, sans-serif; font-size: 1.2em; text-align: center; margin-top: 10px; font-style: italic;\">\n",
    "        Les boucles while et for, la fonction range(), les instructions break et continue.\n",
    "    </p>\n",
    "</div>\n",
    "\n",
    "\n",
    "<figure style=\"padding: 1em; text-align: center;\">\n",
    "    <img src=\"https://media.licdn.com/dms/image/v2/D4E12AQFKCXAfjTHE7A/article-cover_image-shrink_720_1280/B4EZYEIAsaHgAI-/0/1743825936382?e=2147483647&v=beta&t=pAxoPg4JEmL6h01Xs7vIin6nne6Gxq28czq-K8saUB4\" width=\"700\" height=\"400\" alt=\"Logo Python\">\n",
    "    <figcaption style=\"font-size: 0.9em; color: #3498db; margin-top: 0.5em;\">\n",
    "        <i>  <a href=\"https://anyantudre.medium.com/structures-it%C3%A9ratives-en-python-les-boucles-while-et-for-la-fonction-range-les-instructions-bb3b0d3b3804\" target=\"_blank\"></a></i>\n",
    "    </figcaption>\n",
    "</figure>\n",
    "\n",
    "\n",
    "Dans notre quotidien, tout comme en programmation nous sommes souvent confrontés à des tâches répétitives et fastidieuses. Imaginons que sur votre répertoire de contacts, vous ayez une liste de dix (10) amis à qui vous voulez envoyer un message pour leur souhaiter une “bonne année 2026”. Une solution plutot simple qu’une personne lambda peut adopter est de faire des “copier-coller” du même message à chaque ami, ce qui prendrait beaucoup de temps et d’efforts.\n",
    "\n",
    "\n",
    "<div style=\"background-color:rgb(27, 40, 54); padding: 15px; border-radius: 5px; margin-bottom: 30px;\">\n",
    "    <h2 style=\"color:rgb(255, 255, 255); font-family: 'Segoe UI', Arial, sans-serif; font-size: 1.5em; border-bottom: 2px solid #3498DB; padding-bottom: 5px;\">\n",
    "        Table des matières 📑\n",
    "    </h2>\n",
    "    <ul style=\"font-family: 'Segoe UI', Arial, sans-serif; font-size: 1.1em;\">\n",
    "        <li><a href=\"#section1\" style=\"color: #3498DB; text-decoration: none;\">I. Définition d’une boucle</a></li>\n",
    "        <li><a href=\"#section2\" style=\"color: #3498DB; text-decoration: none;\">II. La boucle while</a></li>\n",
    "        <li><a href=\"#section3\" style=\"color: #3498DB; text-decoration: none;\">III. Utilisation de la fonction range()</a></li>\n",
    "        <li><a href=\"#section4\" style=\"color: #3498DB; text-decoration: none;\">IV. Instructions de contrôle : break et continue</a></li>\n",
    "        <li><a href=\"#section5\" style=\"color: #3498DB; text-decoration: none;\">V. Quelques exemples pratiques</a></li>\n",
    "        <li><a href=\"#section6\" style=\"color: #3498DB; text-decoration: none;\">VI. Défi à relever: Utilisation de boucles imbriquées.</a></li>\n",
    "    </ul>\n",
    "</div>"
   ]
  },
  {
   "cell_type": "markdown",
   "metadata": {},
   "source": [
    "### Un petit défi avant de commencer?\n",
    "\n",
    "Avant de commencer et pour simplifier le problème, voici comment cela pourrait ressembler en Python :"
   ]
  },
  {
   "cell_type": "code",
   "execution_count": 49,
   "metadata": {},
   "outputs": [
    {
     "name": "stdout",
     "output_type": "stream",
     "text": [
      "Envoyer un message à Roland :  Bonne et Heureuse année 2026 à toi!\n"
     ]
    }
   ],
   "source": [
    "ami1 = \"Roland\"\n",
    "ami2 = \"Bob\"\n",
    "ami3 = \"Marcus\"\n",
    "ami4 = \"David\"\n",
    "ami5 = \"Ange\"\n",
    "ami6 = \"Frank\"\n",
    "ami7 = \"Grace\"\n",
    "ami8 = \"Hannah\"\n",
    "ami9 = \"Isaac\"\n",
    "ami10 = \"Julia\"\n",
    "\n",
    "\n",
    "message = \"Bonne et Heureuse année 2026 à toi!\"\n",
    "\n",
    "# Envoi du message à tous les amis\n",
    "print(\"Envoyer un message à\", ami1, \": \", message)"
   ]
  },
  {
   "cell_type": "code",
   "execution_count": 50,
   "metadata": {},
   "outputs": [
    {
     "name": "stdout",
     "output_type": "stream",
     "text": [
      "Envoyer un message à Bob :  Bonne et Heureuse année 2026 à toi!\n"
     ]
    }
   ],
   "source": [
    "print(\"Envoyer un message à\", ami2, \": \", message)"
   ]
  },
  {
   "cell_type": "code",
   "execution_count": 51,
   "metadata": {},
   "outputs": [
    {
     "name": "stdout",
     "output_type": "stream",
     "text": [
      "Envoyer un message à Marcus :  Bonne et Heureuse année 2026 à toi!\n"
     ]
    }
   ],
   "source": [
    "print(\"Envoyer un message à\", ami3, \": \", message)"
   ]
  },
  {
   "cell_type": "code",
   "execution_count": 52,
   "metadata": {},
   "outputs": [
    {
     "name": "stdout",
     "output_type": "stream",
     "text": [
      "Envoyer un message à David :  Bonne et Heureuse année 2026 à toi!\n"
     ]
    }
   ],
   "source": [
    "print(\"Envoyer un message à\", ami4, \": \", message)"
   ]
  },
  {
   "cell_type": "code",
   "execution_count": 53,
   "metadata": {},
   "outputs": [
    {
     "name": "stdout",
     "output_type": "stream",
     "text": [
      "Envoyer un message à Ange :  Bonne et Heureuse année 2026 à toi!\n"
     ]
    }
   ],
   "source": [
    "print(\"Envoyer un message à\", ami5, \": \", message)"
   ]
  },
  {
   "cell_type": "code",
   "execution_count": 54,
   "metadata": {},
   "outputs": [
    {
     "name": "stdout",
     "output_type": "stream",
     "text": [
      "Envoyer un message à Frank :  Bonne et Heureuse année 2026 à toi!\n"
     ]
    }
   ],
   "source": [
    "print(\"Envoyer un message à\", ami6, \": \", message)"
   ]
  },
  {
   "cell_type": "code",
   "execution_count": 55,
   "metadata": {},
   "outputs": [
    {
     "name": "stdout",
     "output_type": "stream",
     "text": [
      "Envoyer un message à Grace :  Bonne et Heureuse année 2026 à toi!\n"
     ]
    }
   ],
   "source": [
    "print(\"Envoyer un message à\", ami7, \": \", message)"
   ]
  },
  {
   "cell_type": "code",
   "execution_count": 56,
   "metadata": {},
   "outputs": [
    {
     "name": "stdout",
     "output_type": "stream",
     "text": [
      "Envoyer un message à Hannah :  Bonne et Heureuse année 2026 à toi!\n"
     ]
    }
   ],
   "source": [
    "print(\"Envoyer un message à\", ami8, \": \", message)"
   ]
  },
  {
   "cell_type": "code",
   "execution_count": 57,
   "metadata": {},
   "outputs": [
    {
     "name": "stdout",
     "output_type": "stream",
     "text": [
      "Envoyer un message à Isaac :  Bonne et Heureuse année 2026 à toi!\n"
     ]
    }
   ],
   "source": [
    "print(\"Envoyer un message à\", ami9, \": \", message)"
   ]
  },
  {
   "cell_type": "code",
   "execution_count": 58,
   "metadata": {},
   "outputs": [
    {
     "name": "stdout",
     "output_type": "stream",
     "text": [
      "Envoyer un message à Julia :  Bonne et Heureuse année 2026 à toi!\n"
     ]
    }
   ],
   "source": [
    "print(\"Envoyer un message à\", ami10, \": \", message)"
   ]
  },
  {
   "cell_type": "markdown",
   "metadata": {},
   "source": [
    "Cela fonctionne, mais cela semble assez fastidieux, n’est-ce pas? Eh bien imaginons maintenant qu’au lieu de 10 contacts, vous en ayez en réalité des centaines ou meme des milliers à qui envoyer le message! Qu’allez-vous faire?\n",
    "\n",
    "\n",
    "### La solution? Utiliser une boucle.\n",
    "\n",
    "Heureusement, avec Python et ses structures itératives, nous pouvons automatiser cette tâche répétitive de manière simple et efficace et of course gagner un temps précieux. Regardons comment nous pourrions accomplir la même tâche en utilisant une boucle for:"
   ]
  },
  {
   "cell_type": "code",
   "execution_count": 59,
   "metadata": {},
   "outputs": [
    {
     "name": "stdout",
     "output_type": "stream",
     "text": [
      "Envoyer un message à Roland :  Bonne et Heureuse année 2024 à toi!\n",
      "Envoyer un message à Bob :  Bonne et Heureuse année 2024 à toi!\n",
      "Envoyer un message à Marcus :  Bonne et Heureuse année 2024 à toi!\n",
      "Envoyer un message à David :  Bonne et Heureuse année 2024 à toi!\n",
      "Envoyer un message à Ange :  Bonne et Heureuse année 2024 à toi!\n",
      "Envoyer un message à Frank :  Bonne et Heureuse année 2024 à toi!\n",
      "Envoyer un message à Grace :  Bonne et Heureuse année 2024 à toi!\n",
      "Envoyer un message à Hannah :  Bonne et Heureuse année 2024 à toi!\n",
      "Envoyer un message à Isaac :  Bonne et Heureuse année 2024 à toi!\n",
      "Envoyer un message à Julia :  Bonne et Heureuse année 2024 à toi!\n"
     ]
    }
   ],
   "source": [
    "amis = [\"Roland\", \"Bob\", \"Marcus\", \"David\", \"Ange\", \"Frank\", \"Grace\", \"Hannah\", \"Isaac\", \"Julia\"]\n",
    "message = \"Bonne et Heureuse année 2024 à toi!\"\n",
    "\n",
    "for ami in amis:\n",
    "    print(\"Envoyer un message à\", ami, \": \", message)"
   ]
  },
  {
   "cell_type": "markdown",
   "metadata": {},
   "source": [
    "Cette approche nous permet de parcourir la liste de nos amis et envoyer le même message à chacun d’eux. C’est beaucoup plus efficace et plus rapide que d’écrire chaque ligne d’envoi du message individuellement.\n",
    "\n",
    "**NB:** Le but ici ce n’est pas de comprendre la syntaxe d’une boucle mais juste d’avoir une idée de la puissance de ces structures itératives dans notre la vie réelle.\n",
    "\n",
    "Dans ce article nous allons donc étudier plus en détails cette notion de boucle en complément de ce qu’on a vu précemment et aussi nous introduirons deux instructions capitales que sont les intructions break et continue."
   ]
  },
  {
   "cell_type": "markdown",
   "metadata": {},
   "source": [
    "<div id=\"section1\"></div>\n",
    "<h2 style=\"color: #3498DB; font-family: 'Segoe UI', Arial, sans-serif; font-size: 1.8em; border-bottom: 2px solid #3498DB; padding-bottom: 5px; margin-top: 40px;\">\n",
    "    I. Définition d’une boucle\n",
    "</h2>\n",
    "\n",
    "<figure style=\"padding: 1em; text-align: center;\">\n",
    "    <img src=\"https://miro.medium.com/v2/resize:fit:720/format:webp/1*94WHkzbioLxCXYSnDZpa2Q.png\" width=\"500\" height=\"200\" alt=\"Logo Python\">\n",
    "    <figcaption style=\"font-size: 0.9em; color: #3498db; margin-top: 0.5em;\">\n",
    "        <i> <a href=\"https://anyantudre.medium.com/structures-it%C3%A9ratives-en-python-les-boucles-while-et-for-la-fonction-range-les-instructions-bb3b0d3b3804\" target=\"_blank\"></a></i>\n",
    "    </figcaption>\n",
    "</figure>\n",
    "\n",
    "En programmation, une structure itérative encore appelée boucle est un moyen de répéter l’exécution d’un ensemble d’instructions soit:\n",
    "\n",
    "- un certain nombre de fois ( 5 fois, 20 fois ou 10.000 fois)\n",
    "- oubien jusqu’à ce qu’une condition spécifique soit satisfaite (tant qu’elle soit vraie)\n",
    "\n",
    "Cela permet d’automatiser des tâches répétitives et de traiter des ensembles de données de manière efficace comme vous l’avez constaté plus haut.\n",
    "\n",
    "Plus précisément en Python, les structures itératives comprennent principalement deux types de boucles : la boucle while et la boucle for."
   ]
  },
  {
   "cell_type": "markdown",
   "metadata": {},
   "source": [
    "<div id=\"section2\"></div>\n",
    "\n",
    "<a href=\"#toc\" style=\"background-color: #E1B12D; color: #ffffff; padding: 7px 15px; text-decoration: none; border-radius: 50px;\">Retour en haut</a><a id=\"toc\"></a>\n",
    "\n",
    "<h2 style=\"color: #3498DB; font-family: 'Segoe UI', Arial, sans-serif; font-size: 1.8em; border-bottom: 2px solid #3498DB; padding-bottom: 5px; margin-top: 40px;\">\n",
    "    II. La boucle while\n",
    "</h2>\n",
    "\n",
    "<figure style=\"padding: 1em; text-align: center;\">\n",
    "    <img src=\"https://miro.medium.com/v2/resize:fit:1100/format:webp/1*dOE8dGCb2mSOVGseeetOlg.png\" width=\"650\" height=\"350\" alt=\"Logo Python\">\n",
    "    <figcaption style=\"font-size: 0.9em; color: #3498db; margin-top: 0.5em;\">\n",
    "        <i> <a href=\"https://anyantudre.medium.com/structures-it%C3%A9ratives-en-python-les-boucles-while-et-for-la-fonction-range-les-instructions-bb3b0d3b3804\" target=\"_blank\">Image Credits — RealPython</a></i>\n",
    "    </figcaption>\n",
    "</figure>\n",
    "\n",
    "- **Définition et Utilité:** La boucle while permet de répéter un bloc d’instructions tant qu’une certaine condition spécifiée reste vraie (True). Elle est utile lorsque le nombre d’itérations n’est pas connu à l’avance ou lorsque la répétition doit se poursuivre jusqu’à ce qu’une condition soit remplie.\n",
    "\n",
    "Par exemple, vous pourriez utiliser une boucle while pour lire les données d'un fichier jusqu'à ce que vous atteigniez la fin du fichier, ou pour demander à l'utilisateur de saisir des informations jusqu'à ce qu'il entre une valeur spécifique.\n",
    "\n",
    "- **Syntaxe de base:** \n",
    "_______\n",
    "```python\n",
    "while condition:\n",
    "    # bloc de code à exécuter tant que la condition est vraie\n",
    "```\n",
    "_______"
   ]
  },
  {
   "cell_type": "markdown",
   "metadata": {},
   "source": [
    "Dans cette structure, condition est une expression booléenne. Tant que cette condition est vraie, le bloc de code à l'intérieur de la boucle while est exécuté de manière répétée. Lorsque la condition devient fausse, l'exécution de la boucle s'arrête et le programme passe à l'instruction suivante après la boucle.\n",
    "\n",
    "**Exemples :**"
   ]
  },
  {
   "cell_type": "code",
   "execution_count": 60,
   "metadata": {},
   "outputs": [
    {
     "name": "stdout",
     "output_type": "stream",
     "text": [
      "1\n",
      "2\n",
      "3\n",
      "4\n",
      "5\n"
     ]
    }
   ],
   "source": [
    "# Exemple 1 : Afficher les nombres de 1 à 5\n",
    "nombre = 1\n",
    "while nombre <= 5:\n",
    "    print(nombre)\n",
    "    nombre += 1\n",
    "\n",
    "\n",
    "# instruction continue"
   ]
  },
  {
   "cell_type": "markdown",
   "metadata": {},
   "source": [
    "Dans cet exemple, la boucle while affiche les nombres de 1 à 5 en augmentant la valeur de nombre à chaque itération."
   ]
  },
  {
   "cell_type": "code",
   "execution_count": 61,
   "metadata": {},
   "outputs": [
    {
     "name": "stdout",
     "output_type": "stream",
     "text": [
      "Vous avez entré le nombre 10\n"
     ]
    }
   ],
   "source": [
    "# Exemple 2 : Demander à l'utilisateur un nombre positif\n",
    "nombre = int(input(\"Entrez un nombre positif : \"))\n",
    "\n",
    "while nombre <= 0:\n",
    "    print(\"Le nombre doit être positif!\")\n",
    "    nombre = int(input(\"Entrez un nombre positif : \"))\n",
    "    \n",
    "print(\"Vous avez entré le nombre\", nombre)"
   ]
  },
  {
   "cell_type": "markdown",
   "metadata": {},
   "source": [
    "Dans cet exemple, la boucle while demande à l'utilisateur de saisir un nombre positif. Tant que l'utilisateur entre un nombre négatif ou zéro, la boucle continue de demander à l'utilisateur de saisir un nombre positif.\n",
    "\n",
    "- **Attention aux boucles infinies:** Lorsque vous utilisez une boucle while, assurez-vous toujours que la condition finira par devenir fausse à un moment donné. Sinon, vous risquez de créer une boucle infinie, ce qui entraînera le blocage de votre programme.\n",
    "\n",
    "Par exemple, si vous oubliez d’incrémenter une variable dans une boucle while, la condition restera vraie indéfiniment et votre programme continuera à s'exécuter sans fin."
   ]
  },
  {
   "cell_type": "markdown",
   "metadata": {},
   "source": [
    "<div id=\"section3\"></div>\n",
    "\n",
    "<a href=\"#toc\" style=\"background-color: #E1B12D; color: #ffffff; padding: 7px 15px; text-decoration: none; border-radius: 50px;\">Retour en haut</a><a id=\"toc\"></a>\n",
    "\n",
    "<h2 style=\"color: #3498DB; font-family: 'Segoe UI', Arial, sans-serif; font-size: 1.8em; border-bottom: 2px solid #3498DB; padding-bottom: 5px; margin-top: 40px;\">\n",
    "   III. La boucle for\n",
    "</h2>\n",
    "\n",
    "\n",
    "<figure style=\"padding: 1em; text-align: center;\">\n",
    "    <img src=\"https://miro.medium.com/v2/resize:fit:1100/format:webp/1*nHU4hLFXLlj1ssB4O0vGSQ.png\" width=\"400\" height=\"200\" alt=\"Logo Python\">\n",
    "    <figcaption style=\"font-size: 0.9em; color: #3498db; margin-top: 0.5em;\">\n",
    "        <i>Image Credits — Real Python</i>\n",
    "    </figcaption>\n",
    "</figure>\n",
    "\n",
    "**Définition:** Elle permet de parcourir une séquence (comme une liste, une chaîne de caractères ou un objet itérable) et exécute un bloc d’instructions pour chaque élément de la séquence. Cela facilite le traitement d’ensembles de données structurés et la réalisation d’opérations répétitives sur chaque élément de la séquence.\n",
    "\n",
    "\n",
    "- **Syntaxe de base::** \n",
    "_______\n",
    "```python\n",
    "for element in sequence:\n",
    "    # bloc de code à exécuter pour chaque élément de la séquence\n",
    "```\n",
    "_______"
   ]
  },
  {
   "cell_type": "markdown",
   "metadata": {},
   "source": [
    "Dans cette structure, element est une variable qui prend successivement la valeur de chaque élément de la sequence. Le bloc de code à l'intérieur de la boucle for est exécuté pour chaque élément de la séquence.\n",
    "\n",
    "- **Comparaison avec la boucle while:** Contrairement à la boucle while, où vous spécifiez une condition à vérifier, la boucle for est utilisée lorsque vous devez itérer sur une séquence d'éléments connue à l'avance. La boucle for est souvent utilisée lorsque vous avez besoin de parcourir chaque élément d'une séquence de manière séquentielle, sans avoir besoin de gérer manuellement un compteur d'itération.\n",
    "\n",
    "\n",
    "Par exemple, la boucle for est idéale pour parcourir les éléments d'une liste ou les caractères d'une chaîne de caractères, tandis que la boucle while est plus adaptée lorsque vous devez répéter une séquence d'instructions tant qu'une condition donnée reste vraie.\n",
    "\n",
    "**Exemple:**"
   ]
  },
  {
   "cell_type": "code",
   "execution_count": 62,
   "metadata": {},
   "outputs": [
    {
     "name": "stdout",
     "output_type": "stream",
     "text": [
      "pomme\n",
      "banane\n",
      "orange\n"
     ]
    }
   ],
   "source": [
    "# Exemple 1 : Afficher les éléments d'une liste\n",
    "fruits = [\"pomme\", \"banane\", \"orange\"]\n",
    "for fruit in fruits:\n",
    "    print(fruit)"
   ]
  },
  {
   "cell_type": "code",
   "execution_count": 63,
   "metadata": {},
   "outputs": [
    {
     "name": "stdout",
     "output_type": "stream",
     "text": [
      "1\n",
      "2\n",
      "3\n",
      "4\n",
      "5\n",
      "6\n",
      "7\n",
      "8\n",
      "9\n",
      "10\n",
      "11\n",
      "12\n",
      "13\n",
      "14\n",
      "15\n",
      "16\n",
      "17\n",
      "18\n",
      "19\n",
      "20\n",
      "21\n",
      "22\n",
      "23\n",
      "24\n",
      "25\n",
      "26\n",
      "27\n",
      "28\n",
      "29\n",
      "30\n",
      "31\n",
      "32\n",
      "33\n",
      "34\n",
      "35\n",
      "36\n",
      "37\n",
      "38\n",
      "39\n",
      "40\n",
      "41\n",
      "42\n",
      "43\n",
      "44\n",
      "45\n",
      "46\n",
      "47\n",
      "48\n",
      "49\n",
      "50\n",
      "51\n",
      "52\n",
      "53\n",
      "54\n",
      "55\n",
      "56\n",
      "57\n",
      "58\n",
      "59\n",
      "60\n",
      "61\n",
      "62\n",
      "63\n",
      "64\n",
      "65\n",
      "66\n",
      "67\n",
      "68\n",
      "69\n",
      "70\n",
      "71\n",
      "72\n",
      "73\n",
      "74\n",
      "75\n",
      "76\n",
      "77\n",
      "78\n",
      "79\n",
      "80\n",
      "81\n",
      "82\n",
      "83\n",
      "84\n",
      "85\n",
      "86\n",
      "87\n",
      "88\n",
      "89\n",
      "90\n",
      "91\n",
      "92\n",
      "93\n",
      "94\n",
      "95\n",
      "96\n",
      "97\n",
      "98\n",
      "99\n",
      "100\n"
     ]
    }
   ],
   "source": [
    "# afficher les nombres de 1 à 100 avec while\n",
    "nombre = 1\n",
    "while nombre <=100:\n",
    "    print(nombre)\n",
    "    nombre += 1"
   ]
  },
  {
   "cell_type": "code",
   "execution_count": 64,
   "metadata": {},
   "outputs": [
    {
     "name": "stdout",
     "output_type": "stream",
     "text": [
      "1\n",
      "2\n",
      "3\n",
      "4\n",
      "5\n",
      "6\n",
      "7\n",
      "8\n",
      "9\n",
      "10\n",
      "11\n",
      "12\n",
      "13\n",
      "14\n",
      "15\n",
      "16\n",
      "17\n",
      "18\n",
      "19\n",
      "20\n",
      "21\n",
      "22\n",
      "23\n",
      "24\n",
      "25\n",
      "26\n",
      "27\n",
      "28\n",
      "29\n",
      "30\n",
      "31\n",
      "32\n",
      "33\n",
      "34\n",
      "35\n",
      "36\n",
      "37\n",
      "38\n",
      "39\n",
      "40\n",
      "41\n",
      "42\n",
      "43\n",
      "44\n",
      "45\n",
      "46\n",
      "47\n",
      "48\n",
      "49\n",
      "50\n",
      "51\n",
      "52\n",
      "53\n",
      "54\n",
      "55\n",
      "56\n",
      "57\n",
      "58\n",
      "59\n",
      "60\n",
      "61\n",
      "62\n",
      "63\n",
      "64\n",
      "65\n",
      "66\n",
      "67\n",
      "68\n",
      "69\n",
      "70\n",
      "71\n",
      "72\n",
      "73\n",
      "74\n",
      "75\n",
      "76\n",
      "77\n",
      "78\n",
      "79\n",
      "80\n",
      "81\n",
      "82\n",
      "83\n",
      "84\n",
      "85\n",
      "86\n",
      "87\n",
      "88\n",
      "89\n",
      "90\n",
      "91\n",
      "92\n",
      "93\n",
      "94\n",
      "95\n",
      "96\n",
      "97\n",
      "98\n",
      "99\n",
      "100\n"
     ]
    }
   ],
   "source": [
    "# afficher les nombres de 1 à 100 avec for\n",
    "liste_nombre = [1, 2, 3, 4, 5, 6, 7, 8, 9, 10, 11, 12, 13, 14, 15, 16, 17, 18, 19, 20,21, 22, 23, \n",
    "                24, 25, 26, 27, 28, 29, 30, 31, 32, 33, 34, 35, 36, 37, 38, 39, 40, \n",
    "                41, 42, 43, 44, 45, 46, 47, 48, 49, 50, 51, 52, 53, 54, 55, 56, 57, 58, 59, 60,\n",
    "                61, 62, 63, 64, 65, 66, 67, 68, 69, 70, 71, 72, 73, 74, 75, 76, 77, 78, 79, 80,\n",
    "                81, 82, 83, 84, 85, 86, 87, 88, 89, 90,\n",
    "                91, 92, 93, 94, 95, 96, 97, 98, 99, 100]\n",
    "\n",
    "for nombre in liste_nombre:\n",
    "    print(nombre)"
   ]
  },
  {
   "cell_type": "markdown",
   "metadata": {},
   "source": [
    "Dans cet exemple, la boucle for parcourt chaque élément de la liste fruits et affiche le fruit correspondant."
   ]
  },
  {
   "cell_type": "markdown",
   "metadata": {},
   "source": [
    "<div id=\"section4\"></div>\n",
    "\n",
    "<a href=\"#toc\" style=\"background-color: #E1B12D; color: #ffffff; padding: 7px 15px; text-decoration: none; border-radius: 50px;\">Retour en haut</a><a id=\"toc\"></a>\n",
    "\n",
    "<h2 style=\"color: #3498DB; font-family: 'Segoe UI', Arial, sans-serif; font-size: 1.8em; border-bottom: 2px solid #3498DB; padding-bottom: 5px; margin-top: 40px;\">\n",
    "    IV. Utilisation de la fonction range()\n",
    "</h2>\n",
    "\n",
    "<figure style=\"padding: 1em; text-align: center;\">\n",
    "    <img src=\"https://miro.medium.com/v2/resize:fit:1100/format:webp/1*s_LkHIKwyLMUE1iPkknbhw.png\" width=\"600\" height=\"300\" alt=\"Classement des langages de programmation\">\n",
    "    <figcaption style=\"font-size: 0.9em; color:rgb(71, 129, 255); margin-top: 0.5em;\">\n",
    "        <i>Conditions <a href=\"https://anyantudre.medium.com/structures-condionnelles-en-python-variables-bool%C3%A9ennes-op%C3%A9rateurs-logiques-et-conditions-if-9f6872188b8a#e872\" target=\"_blank\">Image Credits — Soshace</a></i>\n",
    "    </figcaption>\n",
    "</figure>\n",
    "\n",
    "La fonction range() est une fonction intégrée en Python qui génère une séquence de nombres selon les paramètres spécifiés. Elle est souvent utilisée en conjonction avec la boucle for pour spécifier une plage d’itération. Cette fonction est extrêmement utile lorsque vous devez itérer sur une séquence de nombres de manière séquentielle.\n",
    "\n",
    "\n",
    "**Exemples: Différentes façons d’utiliser range()**\n",
    "\n",
    "Voici quelques exemples illustrant différentes façons d’utiliser la fonction range() avec les boucles en Python :\n",
    "\n",
    "- **Utilisation de range() pour générer une séquence de nombres:**"
   ]
  },
  {
   "cell_type": "code",
   "execution_count": 65,
   "metadata": {},
   "outputs": [
    {
     "name": "stdout",
     "output_type": "stream",
     "text": [
      "0\n",
      "1\n",
      "2\n",
      "3\n",
      "4\n"
     ]
    }
   ],
   "source": [
    "for i in range(5):\n",
    "  print(i)"
   ]
  },
  {
   "cell_type": "markdown",
   "metadata": {},
   "source": [
    "Dans cet exemple, range(5) génère une séquence de nombres de 0 à 5 (exclusivement), et la boucle for itère sur chaque nombre de cette séquence et l’affiche.\n",
    "\n",
    "- **Utilisation de range() avec un point de départ et une fin:**"
   ]
  },
  {
   "cell_type": "code",
   "execution_count": 66,
   "metadata": {},
   "outputs": [
    {
     "name": "stdout",
     "output_type": "stream",
     "text": [
      "2\n",
      "3\n",
      "4\n",
      "5\n"
     ]
    }
   ],
   "source": [
    "for i in range(2, 6):\n",
    "  print(i)"
   ]
  },
  {
   "cell_type": "markdown",
   "metadata": {},
   "source": [
    "Ici, range(2, 6) génère une séquence de nombres de 2 à 6 (exclusivement), et la boucle for itère sur chaque nombre de cette séquence et l’affiche.\n",
    "\n",
    "- **Utilisation de range() avec un pas spécifié:**"
   ]
  },
  {
   "cell_type": "code",
   "execution_count": 67,
   "metadata": {},
   "outputs": [
    {
     "name": "stdout",
     "output_type": "stream",
     "text": [
      "0\n",
      "2\n",
      "4\n",
      "6\n",
      "8\n",
      "10\n"
     ]
    }
   ],
   "source": [
    "for i in range(0, 11, 2):\n",
    "  print(i)"
   ]
  },
  {
   "cell_type": "markdown",
   "metadata": {},
   "source": [
    "Dans cet exemple, range(1, 10, 2) génère une séquence de nombres de 1 à 9 (exclusivement), en sautant de 2 en 2, et la boucle for itère sur chaque nombre de cette séquence et l’affiche.\n",
    "\n",
    "- **Utilisation de range() en arrière:**"
   ]
  },
  {
   "cell_type": "code",
   "execution_count": 68,
   "metadata": {},
   "outputs": [
    {
     "name": "stdout",
     "output_type": "stream",
     "text": [
      "10\n",
      "9\n",
      "8\n",
      "7\n",
      "6\n",
      "5\n",
      "4\n",
      "3\n",
      "2\n",
      "1\n",
      "0\n"
     ]
    }
   ],
   "source": [
    "for i in range(10, -1, -1):\n",
    "  print(i)"
   ]
  },
  {
   "cell_type": "markdown",
   "metadata": {},
   "source": [
    "Ici, range(4, 0, -1) génère une séquence de nombres de 4 à 1 (exclusivement), en décroissant de 1 à chaque itération, et la boucle for itère sur chaque nombre de cette séquence et l’affiche.\n",
    "\n",
    "Tous ces exemples illustrent différentes façons d’utiliser la fonction range() avec les boucles en Python, vous permettant ainsi de spécifier facilement des plages d’itération pour vos boucles."
   ]
  },
  {
   "cell_type": "markdown",
   "metadata": {},
   "source": [
    "<div id=\"section4\"></div>\n",
    "\n",
    "<a href=\"#toc\" style=\"background-color: #E1B12D; color: #ffffff; padding: 7px 15px; text-decoration: none; border-radius: 50px;\">Retour en haut</a><a id=\"toc\"></a>\n",
    "\n",
    "<h2 style=\"color: #3498DB; font-family: 'Segoe UI', Arial, sans-serif; font-size: 1.8em; border-bottom: 2px solid #3498DB; padding-bottom: 5px; margin-top: 40px;\">\n",
    "    V. Instructions de contrôle : break et continue\n",
    "</h2>\n",
    "\n",
    "<figure style=\"padding: 1em; text-align: center;\">\n",
    "    <img src=\"https://miro.medium.com/v2/resize:fit:1100/format:webp/1*1nmpk9k-mwo_9l87yEN7Fg.jpeg\" width=\"600\" height=\"300\" alt=\"Classement des langages de programmation\">\n",
    "    <figcaption style=\"font-size: 0.9em; color:rgb(71, 129, 255); margin-top: 0.5em;\">\n",
    "        <i>Conditions <a href=\"https://anyantudre.medium.com/structures-condionnelles-en-python-variables-bool%C3%A9ennes-op%C3%A9rateurs-logiques-et-conditions-if-9f6872188b8a#e872\" target=\"_blank\">Image Credits — almabetter</a></i>\n",
    "    </figcaption>\n",
    "</figure>\n",
    "\n",
    "\n",
    "- **L’instruction “break”:**  \n",
    "L’instruction break est utilisée pour sortir prématurément d’une boucle lorsqu’une condition spécifique est remplie. Elle permet d’arrêter l’exécution de la boucle immédiatement, même si la condition de fin de boucle n’est pas encore atteinte.\n",
    "\n",
    "**Exemple : utilisation de break pour sortir d’une boucle lorsque la valeur 5 est atteinte.**"
   ]
  },
  {
   "cell_type": "code",
   "execution_count": 69,
   "metadata": {},
   "outputs": [
    {
     "name": "stdout",
     "output_type": "stream",
     "text": [
      "1\n",
      "2\n",
      "3\n",
      "4\n",
      "5\n",
      "Sortie de la boucle\n"
     ]
    }
   ],
   "source": [
    "for i in range(1, 11):\n",
    "  print(i)\n",
    "  if i == 5:\n",
    "    print(\"Sortie de la boucle\")\n",
    "    break"
   ]
  },
  {
   "cell_type": "markdown",
   "metadata": {},
   "source": [
    "Dans cet exemple, la boucle for itère de 1 à 10. Lorsque la valeur de i atteint 5, l’instruction break est exécutée, ce qui sort prématurément de la boucle.\n",
    "\n",
    "- **L’instruction “continue”:**\n",
    "\n",
    "L’instruction continue est utilisée pour passer à l’itération suivante de la boucle sans exécuter le reste du code à l’intérieur de la boucle pour cette itération spécifique. Cela permet d’ignorer certaines itérations de la boucle en fonction d’une condition donnée.\n",
    "\n",
    "**Exemple : utilisation de continue pour ignorer les nombres pairs**"
   ]
  },
  {
   "cell_type": "code",
   "execution_count": 70,
   "metadata": {},
   "outputs": [
    {
     "name": "stdout",
     "output_type": "stream",
     "text": [
      "1\n",
      "3\n",
      "5\n",
      "7\n",
      "9\n"
     ]
    }
   ],
   "source": [
    "for i in range(1, 11):\n",
    "  if i % 2 == 0:\n",
    "    continue\n",
    "  print(i)"
   ]
  },
  {
   "cell_type": "markdown",
   "metadata": {},
   "source": [
    "Dans cet exemple, la boucle for itère de 1 à 10. Lorsque i est pair, l’instruction *continue* est exécutée, ce qui passe à l’itération suivante de la boucle sans exécuter le reste du code pour cette itération. Ainsi, seuls les nombres impairs sont affichés.\n",
    "\n",
    "Ces exemples démontrent comment utiliser efficacement les instructions break et continue pour contrôler le flux d’exécution des boucles en Python. Que ce soit pour sortir prématurément d’une boucle ou ignorer certaines itérations, ces instructions sont des outils puissants pour manipuler le comportement des boucles selon vos besoins."
   ]
  },
  {
   "cell_type": "markdown",
   "metadata": {},
   "source": [
    "<div id=\"section4\"></div>\n",
    "\n",
    "<a href=\"#toc\" style=\"background-color: #E1B12D; color: #ffffff; padding: 7px 15px; text-decoration: none; border-radius: 50px;\">Retour en haut</a><a id=\"toc\"></a>\n",
    "\n",
    "<h2 style=\"color: #3498DB; font-family: 'Segoe UI', Arial, sans-serif; font-size: 1.8em; border-bottom: 2px solid #3498DB; padding-bottom: 5px; margin-top: 40px;\">\n",
    "    VI. Quelques exemples pratiques\n",
    "</h2>\n",
    "\n",
    "\n",
    "- **Exemple 1 : Calculer la moyenne des notes d’un étudiant.**  \n",
    "\n",
    "Supposons que vous ayez une liste de notes d’un étudiant et que vous vouliez calculer sa moyenne. Voici comment vous pourriez le faire avec une boucle for :\n",
    "\n",
    "**length** <--> longueur\n",
    "\n",
    "Python: fonction *len()*"
   ]
  },
  {
   "cell_type": "code",
   "execution_count": null,
   "metadata": {},
   "outputs": [
    {
     "name": "stdout",
     "output_type": "stream",
     "text": [
      "La moyenne des notes est : 16.4\n"
     ]
    }
   ],
   "source": [
    "notes = [15, 18, 14, 16, 19]\n",
    "\n",
    "somme = 0\n",
    "for note in notes:\n",
    "  # somme = somme + note\n",
    "  somme += note\n",
    "\n",
    "moyenne = somme / len(notes)\n",
    "print(\"La moyenne des notes est :\", moyenne)"
   ]
  },
  {
   "cell_type": "code",
   "execution_count": 17,
   "metadata": {},
   "outputs": [
    {
     "name": "stdout",
     "output_type": "stream",
     "text": [
      "Le produit total: 1149120\n"
     ]
    }
   ],
   "source": [
    "notes = [15, 18, 14, 16, 19]\n",
    "\n",
    "produit = 1\n",
    "for note in notes:\n",
    "    produit *= note\n",
    "\n",
    "print(\"Le produit total:\", produit)"
   ]
  },
  {
   "cell_type": "markdown",
   "metadata": {},
   "source": [
    "- **Exemple 2: Recherche d’un élément dans une séquence prédéfinie (un peu avancé)**  \n",
    "\n",
    "Imaginons que vous ayez une liste de nombres et que vous vouliez vérifier si un nombre donné est présent dans la liste. Voici un exemple utilisant une boucle while:\n",
    "\n"
   ]
  },
  {
   "cell_type": "code",
   "execution_count": 23,
   "metadata": {},
   "outputs": [
    {
     "data": {
      "text/plain": [
       "45"
      ]
     },
     "execution_count": 23,
     "metadata": {},
     "output_type": "execute_result"
    }
   ],
   "source": [
    "elements = [-85, 45, 17, 3, 6, 9, 12, 15, 2025, 96, 145]\n",
    "# pour acceer au deuxiemen l'élement de la liste\n",
    "elements[1]"
   ]
  },
  {
   "cell_type": "code",
   "execution_count": 25,
   "metadata": {},
   "outputs": [
    {
     "name": "stdout",
     "output_type": "stream",
     "text": [
      "Elément trouvé dans la séquence à l'indice 6\n"
     ]
    }
   ],
   "source": [
    "elements = [-85, 45, 17, 3, 6, 9, 12, 15, 2025, 96, 145]\n",
    "element_recherche = 12\n",
    "trouve = False\n",
    "indice = 0\n",
    "\n",
    "while indice < len(elements):\n",
    "    if elements[indice] == element_recherche:\n",
    "        trouve = True\n",
    "        break\n",
    "    indice += 1\n",
    "\n",
    "\n",
    "if trouve == True:\n",
    "    print(\"Elément trouvé dans la séquence à l'indice\", indice)\n",
    "else:\n",
    "    print(\"Elément non trouvé dans la séquence.\")"
   ]
  },
  {
   "cell_type": "markdown",
   "metadata": {},
   "source": [
    "Dans cet exemple, nous utilisons une boucle for pour itérer sur une séquence prédéfinie et comparer chaque élément avec l'élément recherché. Si l'élément est trouvé, nous définissons la variable trouve sur True et sortons de la boucle à l'aide de l'instruction break."
   ]
  },
  {
   "cell_type": "markdown",
   "metadata": {},
   "source": [
    "<div id=\"section4\"></div>\n",
    "\n",
    "<a href=\"#toc\" style=\"background-color: #E1B12D; color: #ffffff; padding: 7px 15px; text-decoration: none; border-radius: 50px;\">Retour en haut</a><a id=\"toc\"></a>\n",
    "\n",
    "<h2 style=\"color: #3498DB; font-family: 'Segoe UI', Arial, sans-serif; font-size: 1.8em; border-bottom: 2px solid #3498DB; padding-bottom: 5px; margin-top: 40px;\">\n",
    "    VII. Défi à relever: Utilisation de boucles imbriquées.\n",
    "</h2>\n",
    "\n",
    "\n",
    "**Une boucle imbriquée** est tout simplement une structure de contrôle dans la programmation où une boucle est placée à l’intérieur d’une autre boucle.\n",
    "\n",
    "Les boucles imbriquées sont couramment utilisées pour traiter des structures de données multidimensionnelles, générer des motifs complexes, effectuer des calculs matriciels, ou pour toute autre tâche nécessitant des itérations multiples dans un contexte de programmation.\n",
    "\n",
    "- **Exemple : Affichage d’un motif de carré à l’aide d’étoiles**  "
   ]
  },
  {
   "cell_type": "code",
   "execution_count": 73,
   "metadata": {},
   "outputs": [
    {
     "name": "stdout",
     "output_type": "stream",
     "text": [
      "* * * * * * \n",
      "* * * * * * \n",
      "* * * * * * \n",
      "* * * * * * \n",
      "* * * * * * \n",
      "* * * * * * \n"
     ]
    }
   ],
   "source": [
    "n = 6\n",
    "for i in range(n):\n",
    "    for j in range(n):\n",
    "        print(\"*\", end=\" \")\n",
    "    print()"
   ]
  },
  {
   "cell_type": "markdown",
   "metadata": {},
   "source": [
    "Maintenant je vous défie de tracer ce motif de triangle en utilisant des boucles `for` imbriquées :)\n",
    "\n",
    "```\n",
    "* \n",
    "* * \n",
    "* * * \n",
    "* * * * \n",
    "* * * * *\n",
    "```"
   ]
  },
  {
   "cell_type": "code",
   "execution_count": null,
   "metadata": {},
   "outputs": [],
   "source": [
    "# Ecrivez votre solution ici\n",
    "#\n",
    "#"
   ]
  },
  {
   "cell_type": "code",
   "execution_count": 1,
   "metadata": {},
   "outputs": [
    {
     "name": "stdout",
     "output_type": "stream",
     "text": [
      "* \n",
      "* * \n",
      "* * * \n",
      "* * * * \n",
      "* * * * * \n"
     ]
    }
   ],
   "source": [
    "for i in range(1, 6):\n",
    "    print(\"* \" * i)"
   ]
  },
  {
   "cell_type": "markdown",
   "metadata": {},
   "source": [
    "En résumé, les structures itératives en Python permettent de répéter des blocs de code de manière contrôlée, ce qui les rend essentielles pour résoudre une grande variété de problèmes de programmation.\n"
   ]
  },
  {
   "cell_type": "code",
   "execution_count": null,
   "metadata": {},
   "outputs": [],
   "source": []
  }
 ],
 "metadata": {
  "kernelspec": {
   "display_name": "base",
   "language": "python",
   "name": "python3"
  },
  "language_info": {
   "codemirror_mode": {
    "name": "ipython",
    "version": 3
   },
   "file_extension": ".py",
   "mimetype": "text/x-python",
   "name": "python",
   "nbconvert_exporter": "python",
   "pygments_lexer": "ipython3",
   "version": "3.12.9"
  }
 },
 "nbformat": 4,
 "nbformat_minor": 2
}
